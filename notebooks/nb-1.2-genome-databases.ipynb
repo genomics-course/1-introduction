{
 "cells": [
  {
   "cell_type": "markdown",
   "metadata": {},
   "source": [
    "# Notebook 1.2: Genome Databases\n",
    "\n",
    "In this notebook we will introduce more details about the NCBI and Ensembl genome databases, and how assembled genome data generally looks in published form. "
   ]
  },
  {
   "cell_type": "markdown",
   "metadata": {},
   "source": [
    "### Learning objectives: \n",
    "\n",
    "1. Understand the hierarchical structure of FTP sites. \n",
    "2. Learn the format of published reference genomes. \n",
    "3. Learn to keep a look out for README files. \n"
   ]
  },
  {
   "cell_type": "markdown",
   "metadata": {},
   "source": [
    "### FTP sites\n",
    "\n",
    "When using Codio for this course your unit will typically have a README file in it which contains instructions for how to complete your assignments each week. The use of a file called README to provide instructions is not specific to this course, but is actually a general practice used widely in computer programming and bioinformatics. \n",
    "\n",
    "For example, let's look at the NCBI RefSeq Genome Index: http://ftp.ncbi.nlm.nih.gov/genomes/  (You'll need to copy and paste the url into your browser, unfortunately markdown does not allow making FTP links clickable). "
   ]
  },
  {
   "cell_type": "markdown",
   "metadata": {},
   "source": [
    "### The README file\n",
    "\n",
    "FTP is a protocol for sharing large files over the internet by allowing users to browse a file system just like it was a series of folders on their computer. Open a browser tab to the FTP link above. You should see a series of links to other files and folders. Click on a folder and you will  see a new page with links to the files and folders nested within that one. Go back to the original link location. Here there is a file called README.txt. **Click on it to read it.**"
   ]
  },
  {
   "cell_type": "markdown",
   "metadata": {},
   "source": [
    "<div class=\"alert alert-success\">\n",
    "    <b>Question:</b> \n",
    "    From the README file, what is the difference between the refseq/ and genomes/ directories? Answer in markdown below. \n",
    "</div>"
   ]
  },
  {
   "cell_type": "markdown",
   "metadata": {},
   "source": [
    "<div class=\"alert alert-warning\">\n",
    "    <h3>Response:</h3>\n",
    "    \n",
    "The GenBank directory \n",
    "area includes genome sequence data for a larger number of organisms \n",
    "than the RefSeq directory area; however, some assemblies are \n",
    "unannotated. The RefSeq genomes are all annotated.\n",
    "</div>\n"
   ]
  },
  {
   "cell_type": "markdown",
   "metadata": {},
   "source": [
    "------------------------------"
   ]
  },
  {
   "cell_type": "markdown",
   "metadata": {},
   "source": [
    "### Genome files\n",
    "We will focus on the refseq assemblies for now. Go down to the section in the README file labeled \"Data provided per assembly:\" and read the contents of each of the files that can be included in the genome assembly directory. Pretty cool that all of this data is publicy available and so easy to access, huh? "
   ]
  },
  {
   "cell_type": "markdown",
   "metadata": {},
   "source": [
    "### Investigate a genome assembly \n",
    "\n",
    "From the original link go to the refseq/ directory and browse through the folders of genomes for different organismal groups. Choose an organism by selecting a folder labeled with a latin binomial (e.g., *Homo sapiens*). If there are multiple genomes assemblies available for this organism select the one labeled \"representative\" or \"reference\". In the genome folder that you selected, find the file with the ending `_assembly_stats.txt` and open it. Answer the question below with the information contained in the assembly stats. "
   ]
  },
  {
   "cell_type": "markdown",
   "metadata": {},
   "source": [
    "<div class=\"alert alert-success\">\n",
    "    <b>Action:</b> Fill in the markdown cell below with the following statistics from the assembly stats of your selected organism. Make sure the markdown text is nicely formatted and easily readable when you are finished. (Tip: leave two spaces at the end of a line to create a line-break. \n",
    "</div>"
   ]
  },
  {
   "cell_type": "markdown",
   "metadata": {},
   "source": [
    "<div class=\"alert alert-warning\">\n",
    "    <h3>Response:</h3>\n",
    "    \n",
    "\n",
    "- Organism name:  ...\n",
    "- Date (publish date): ...  \n",
    "- Sequencing technology:  ...\n",
    "- Assembly_method:  ...\n",
    "- Assembly_level:  ...\n",
    "    \n",
    "</div>\n"
   ]
  },
  {
   "cell_type": "markdown",
   "metadata": {},
   "source": [
    "### Comparing genome assembly stats\n",
    "Take a look at two representative genomes considered very good and not so great, respectively: the [Baker's Yeast](https://en.wikipedia.org/wiki/Saccharomyces_cerevisiae) genome (Fungi/Saccharomyces_cereviseae), and the [Walnut](https://en.wikipedia.org/wiki/Juglans_regia) genome (plant/Juglans_regia), by finding their assembly stats in the FTP site. "
   ]
  },
  {
   "cell_type": "markdown",
   "metadata": {},
   "source": [
    "<div class=\"alert alert-success\">\n",
    "    <b>Question:</b> \n",
    "    After looking at the other assembly stats files, do you think that the organism you selected above is a very good genome assembly, or a not-so-good genome assembly? What statistics of the assembly report did you use to make this conclusion, and what do those statistics mean? Why do you think the Walnut genome includes some stats that the Yeast genome doesn't? Answer using markdown below. \n",
    "</div>\n"
   ]
  },
  {
   "cell_type": "markdown",
   "metadata": {},
   "source": [
    "<div class=\"alert alert-warning\">\n",
    "    <h3>Response:</h3>\n",
    "\n",
    "Based on N50 statistics and the fact that the Yeast genome if chromosome-scale whereas the Walnut genome is only scaffold level, it is clear that the yeast genome is better. \n",
    "</div>\n"
   ]
  },
  {
   "cell_type": "markdown",
   "metadata": {},
   "source": [
    "----------------------"
   ]
  },
  {
   "cell_type": "markdown",
   "metadata": {},
   "source": [
    "## NCBI and Ensembl\n",
    "\n",
    "NCBI is maintained by the US NIH, but it is not the only place where genome data is made publicly available online. There are several governmental agencies setup around the world for archiving and hosting genomic data. For example, in Europe EMBL hosts genomic resources, and the [Ensembl](https://useast.ensembl.org/info/about/index.html) database provides annotation resources similar to NCBI RefSeq. For example, you can browse the Ensembl FTP site here (http://ftp.ensembl.org/pub/release-94/fasta/) where you will find similar files, though sometimes organized and formatted a bit differently. "
   ]
  },
  {
   "cell_type": "markdown",
   "metadata": {},
   "source": [
    "<div class=\"alert alert-success\">\n",
    "    <b>Action:</b> \n",
    "    When completed save and download this notebook in HTML format and submit it along with the other notebooks for this unit to courseworks.  \n",
    "</div>\n"
   ]
  }
 ],
 "metadata": {
  "kernelspec": {
   "display_name": "Python 3",
   "language": "python",
   "name": "python3"
  },
  "language_info": {
   "codemirror_mode": {
    "name": "ipython",
    "version": 3
   },
   "file_extension": ".py",
   "mimetype": "text/x-python",
   "name": "python",
   "nbconvert_exporter": "python",
   "pygments_lexer": "ipython3",
   "version": "3.6.8"
  }
 },
 "nbformat": 4,
 "nbformat_minor": 2
}
