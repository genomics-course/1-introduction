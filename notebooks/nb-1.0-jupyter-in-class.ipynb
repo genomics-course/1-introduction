{
 "cells": [
  {
   "cell_type": "markdown",
   "metadata": {},
   "source": [
    "# Notebook 1.0: Introduction to notebooks in codio\n",
    "\n",
    "\n",
    "### Learning objectives\n",
    "This notebook will be used as an in-class introduction to using jupyter in Codio. By the end of this notebook you should: \n",
    "\n",
    "1. Be able to recognize assigned questions or actions in notebooks.\n",
    "2. Know how to enter text (markdown) or code into notebooks. \n",
    "2. Know how to complete and save assigned notebooks. \n",
    "\n",
    "<div class=\"alert alert-success\">\n",
    "    <b>Questions</b> that require you to respond using Markdown (text) or <b>Actions</b> that require you to edit and execute code to produce new results will be highlighted on a green background. You should always execute all code blocks in a notebook in order from the top to the bottom, which will not necessarily be highlighted in green, but if we ask you to edit a code block it will be highlighted.  \n",
    "</div>"
   ]
  },
  {
   "cell_type": "markdown",
   "metadata": {},
   "source": [
    "### Markdown cells\n",
    "\n",
    "Double click on the text below that says \"Hello world\". When you do you should see the text open up into an interactive cell. This cell is set up to execute a type of code called *Markdown*, which is a language for formatting text, much like HTML (which is called a *MarkUp* language). Markdown is much easier to learn than HTML, and for that reason has become a very popular tool for simple formatting and styling of text. To tranform the cell back into *rendered text* you must *execute it*, which can be done by pressing the 'Run' button in the notebook tool bar, or, by **holding down the control key and pressing enter**. "
   ]
  },
  {
   "cell_type": "markdown",
   "metadata": {},
   "source": [
    "Hello world"
   ]
  },
  {
   "cell_type": "markdown",
   "metadata": {},
   "source": [
    "<div class=\"alert alert-success\">\n",
    "    <b>Action:</b> In the Markdown cell below convert the top line of text into a level-3 header (large and bold text) by double clicking on the cell so that you can interact with the text, and then adding three hash marks (#) before the first line without any spaces separating the hash marks, and with one space between the hashes and the text (like this: ### hello world). Then hold control and press enter to execute the cell. You should see large bold formatted text on the first line, followed by normal formatted text for the second line. If not, try editing the text again, you may have included spaces, or other errors. \n",
    "</div>"
   ]
  },
  {
   "cell_type": "markdown",
   "metadata": {},
   "source": [
    "My first executed Markdown cell\n",
    "\n",
    "The text on the line above this is a level-3 header."
   ]
  },
  {
   "cell_type": "markdown",
   "metadata": {},
   "source": [
    "### Code cells\n",
    "In the menu and tool bar you can find options to change the *type* of cells. The two main types we are interested in are Markdown cells, as you just saw above, and *Code* cells, which are used to execute code. *Most* of the time code cells will produce some kind of output which is returned when the code is executed. In jupyter notebooks the returned code will be saved in the output area below the executed cell.\n",
    "\n",
    "As an example, let's execute the cell below which contains two Python commands, one storing an integer as a variable `x`, and a second command to print the variable's value. The code also includes lines that start with hash marks (#) which are called comment lines, these are not executed and are meant for leaving notes about the code. \n"
   ]
  },
  {
   "cell_type": "code",
   "execution_count": 1,
   "metadata": {},
   "outputs": [
    {
     "name": "stdout",
     "output_type": "stream",
     "text": [
      "3\n"
     ]
    }
   ],
   "source": [
    "# store value to the variable x\n",
    "x = 3\n",
    "\n",
    "# print the variable x\n",
    "print(x)"
   ]
  },
  {
   "cell_type": "markdown",
   "metadata": {},
   "source": [
    "The default language in Jupyter is Python, but we can execute other languages as well. The bash scripting is available in code cells if you append `%%bash` to the top of the cell. You can see that the syntax to perform the same task we did above in Python is similar but a little different in bash. Learning the idiosyncracies of different coding languages takes time, and it is easiest to learn by example, which we will see a lot of throughout this course. "
   ]
  },
  {
   "cell_type": "code",
   "execution_count": 2,
   "metadata": {
    "scrolled": true
   },
   "outputs": [
    {
     "name": "stdout",
     "output_type": "stream",
     "text": [
      "3\n"
     ]
    }
   ],
   "source": [
    "%%bash\n",
    "\n",
    "# store value to a variable x\n",
    "x=3\n",
    "\n",
    "# print the variable\n",
    "echo $x"
   ]
  },
  {
   "cell_type": "markdown",
   "metadata": {},
   "source": [
    "<div class=\"alert alert-success\">\n",
    "    <b>Action:</b> The cell below is currently set to execute as a Markdown cell, meaning the contents are formatted as text when it is executed. However, the content of the cell is actually Python code (which is why it look a bit jumbled), and so we need to change the cell type so it will execute as a code cell instead. Convert the cell type to a Code cell and execute it. If done correctly it should print an returned output telling you that you did it correctly. Understanding the actual contents of the Python code is not of particular interest for.\n",
    "</div>"
   ]
  },
  {
   "cell_type": "markdown",
   "metadata": {},
   "source": [
    "from IPython.display import HTML\n",
    "def success_message():\n",
    "    \"this is a function to print a message telling the user they were successful\"\n",
    "    msg = \"Great job, you completed the tutorial.\"\n",
    "    frm = \"\"\"<html><p style='font-size:24px;'><b>{}</b></p></html>\"\"\"\n",
    "    complete = HTML(frm.format(msg))\n",
    "    return complete\n",
    "    \n",
    "success_message()"
   ]
  },
  {
   "cell_type": "markdown",
   "metadata": {},
   "source": [
    "### Submitting assignments\n",
    "\n",
    "Jupyter notebooks auto-save every few minutes, which is useful to keep from losing your progress if you disconnect from the notebook, or accidentally delete something important. You can always restart a notebook as well from the tool bar on top, which is useful if you somehow crash it. When you reach the end of a notebook you should look back over the entire document to make sure you have answered all of the required questions or actions. If you have, then save the document one last time by clicking on `Save and Checkpoint` in the File Menu (or click on the disk in the upper left). That's it. We'll review your saved notebook when it is due, and it will be graded based on your progress at that time."
   ]
  }
 ],
 "metadata": {
  "kernelspec": {
   "display_name": "Python 3",
   "language": "python",
   "name": "python3"
  },
  "language_info": {
   "codemirror_mode": {
    "name": "ipython",
    "version": 3
   },
   "file_extension": ".py",
   "mimetype": "text/x-python",
   "name": "python",
   "nbconvert_exporter": "python",
   "pygments_lexer": "ipython3",
   "version": "3.6.3"
  }
 },
 "nbformat": 4,
 "nbformat_minor": 2
}
