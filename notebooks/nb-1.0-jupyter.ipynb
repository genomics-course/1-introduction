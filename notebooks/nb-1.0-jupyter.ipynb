{
 "cells": [
  {
   "cell_type": "markdown",
   "metadata": {},
   "source": [
    "# Notebook 1.0: Jupyter notebooks\n",
    "\n",
    "### Learning objectives\n",
    "This notebook is meant to provide an introduction to using jupyter notebooks, a web-based tool for combining executable code and formatted text. \n",
    "\n",
    "By the end of this notebook you will: \n",
    "\n",
    "1. Recognize assigned questions or actions in notebooks.\n",
    "2. Know how to enter text (markdown) or code into notebooks. \n",
    "3. Know how to complete and save assigned notebooks. "
   ]
  },
  {
   "cell_type": "markdown",
   "metadata": {},
   "source": [
    "<div class=\"alert alert-success\">\n",
    "    Note: <b>Questions</b> that require you to respond using Markdown (text) or <b>Actions</b> that require you to edit and execute code to produce new results will be highlighted on a green background. You should always execute all code blocks in a notebook in order from the top to the bottom, which will not necessarily be highlighted in green, but if we ask you to edit a code block it will be highlighted.  \n",
    "</div>"
   ]
  },
  {
   "cell_type": "markdown",
   "metadata": {},
   "source": [
    "### Jupyter notebooks \n",
    "The Jupyter Notebook is a powerful tool for interactively developing and presenting data science projects. It allows you to use a web browser (as opposed to a terminal or other software) to interact with a computer language interpreter (typically Python) to send commands and receive outputs. It then displays the outputs in HTML below the executed cells, and allows users to add rich text comments or annotations around code cells using [markdown](https://en.wikipedia.org/wiki/Markdown) (more on this below)."
   ]
  },
  {
   "cell_type": "markdown",
   "metadata": {},
   "source": [
    "### How we will use notebook\n",
    "\n",
    "In this class, we will use notebooks to complete assignments that are paired to your readings and are intended to demonstrate useful skills and methods in computational biology that complement assigned readings. \n",
    "\n",
    "The notebooks that you run will always be running remotely on a cloud server (either codio or binder). This allows us and you to sidestep the hassle of having to install software onto everyone's computers. The only thing you will need to complete all of the coding exercises in this class is a computer with a *modern web browser* and an internet connnection. Therefore, it doesn't matter whether your computer is running Linux, OSX, Windows, Chrome, etc.\n",
    "\n",
    "For your own interests, you may be interested in installing jupyter on your own computer to try running notebooks locally. There are many tutorials online for how to do this (e.g., [here](https://www.dataquest.io/blog/jupyter-notebook-tutorial/)). In this class, however, we recommend that you use our cloud-based notebooks since they will usually have data and software pre-loaded to simplify exercises. "
   ]
  },
  {
   "cell_type": "markdown",
   "metadata": {},
   "source": [
    "### Markdown cells\n",
    "\n",
    "Markdown is a simple method for *styling* text for web-based documents.\n",
    "\n",
    "Double click on the text below that says \"Hello world\". When you do you should see the text open up into an interactive cell. This cell is set up to execute a type of code called *Markdown*, which is a language for formatting text, much like HTML (which is called a *MarkUp* language). Markdown is much easier to learn than HTML, and for that reason has become a very popular tool for simple formatting and styling of text. To transform the cell back into **rendered text** you must **execute it**, which can be done by pressing the 'Run' button in the notebook toolbar while the cell is selected/highlighted, or, by **holding down the control key and pressing enter**. \n",
    "\n",
    "I recommend that you learn the hotkey commands, since it will make you a more efficient notebook user. You can click on the keyboard icon in the toolbar to find a list of hotkey commands, or find many resources online ([like this one](https://towardsdatascience.com/jypyter-notebook-shortcuts-bf0101a98330)). "
   ]
  },
  {
   "cell_type": "markdown",
   "metadata": {},
   "source": [
    "### Hello World"
   ]
  },
  {
   "cell_type": "markdown",
   "metadata": {},
   "source": [
    "<div class=\"alert alert-success\">\n",
    "    <b>Action:</b> In the markdown cell below convert the top line of text into a level-3 header (large and bold text) by double clicking on the cell so that you can interact with the text, and then adding three hash marks (#) before the first line without any spaces separating the hash marks, and with one space between the hashes and the text (like in the Hello World cell above). Then hold control and press enter to execute the cell. You should see large bold formatted text on the first line, followed by normal formatted text for the second line. If not, try editing the text again, you may have included spaces, or other errors. \n",
    "</div>"
   ]
  },
  {
   "cell_type": "markdown",
   "metadata": {},
   "source": [
    "My first executed Markdown cell\n",
    "\n",
    "The text on the line above this is a level-3 header."
   ]
  },
  {
   "cell_type": "markdown",
   "metadata": {},
   "source": [
    "### Code cells\n",
    "In the menu and tool bar you can find options to change the *type* of cells. The two main types we are interested in are Markdown cells, as you just saw above, and *Code* cells, which are used to execute code. *Most* of the time code cells will produce some kind of output which is returned when the code is executed. In jupyter notebooks the returned code will be saved in the output area below the executed cell.\n",
    "\n",
    "As an example, let's execute the cell below which contains two Python commands, one storing an integer as a variable `x`, and a second command to print the variable's value. The code also includes lines that start with hash marks (#) which are called comment lines, these are not executed and are meant for leaving notes about the code. "
   ]
  },
  {
   "cell_type": "code",
   "execution_count": 1,
   "metadata": {},
   "outputs": [
    {
     "name": "stdout",
     "output_type": "stream",
     "text": [
      "3\n"
     ]
    }
   ],
   "source": [
    "# store value to the variable x\n",
    "x = 3\n",
    "\n",
    "# print the variable x\n",
    "print(x)"
   ]
  },
  {
   "cell_type": "markdown",
   "metadata": {},
   "source": [
    "The default language in Jupyter is Python, but we can execute some other languages as well. The bash language is available in code cells if you append `%%bash` to the top of the cell. You can see that the syntax to perform the same task we did above in Python is similar but a little different in bash. Learning the idiosyncracies of different coding languages takes time, and it is easiest to learn by example, which we will see a lot of throughout this course. "
   ]
  },
  {
   "cell_type": "code",
   "execution_count": 2,
   "metadata": {
    "scrolled": true
   },
   "outputs": [
    {
     "name": "stdout",
     "output_type": "stream",
     "text": [
      "3\n"
     ]
    }
   ],
   "source": [
    "%%bash\n",
    "\n",
    "# store value to a variable x\n",
    "x=3\n",
    "\n",
    "# print the variable\n",
    "echo $x"
   ]
  },
  {
   "cell_type": "markdown",
   "metadata": {},
   "source": [
    "<div class=\"alert alert-success\">\n",
    "    <b>Action:</b> The cell below is currently set to execute as a markdown cell, meaning the contents are formatted as text when it is executed. However, the content of the cell is actually proper Python code (which is why it looks quite jumbled as markdown). Therefore, to make it display properly you need to change the cell type so it will execute as a code cell instead of markdown. Convert the cell type to a Code cell and execute it. If done correctly it should return an output message telling you that you did it correctly. Understanding the actual Python code itself within the cell is not of particular concern for now.\n",
    "</div>"
   ]
  },
  {
   "cell_type": "markdown",
   "metadata": {},
   "source": [
    "from IPython.display import HTML\n",
    "def success_message():\n",
    "    \"this is a function to print a message telling the user they were successful\"\n",
    "    msg = \"Great job, you completed the tutorial.\"\n",
    "    frm = \"\"\"<html><p style='font-size:24px;'><b>{}</b></p></html>\"\"\"\n",
    "    complete = HTML(frm.format(msg))\n",
    "    return complete\n",
    "    \n",
    "success_message()"
   ]
  },
  {
   "cell_type": "markdown",
   "metadata": {},
   "source": [
    "### Re-connecting to notebooks\n",
    "\n",
    "Jupyter notebooks auto-save every few minutes, which helps to keep you from losing your progress. However, you may lose your connection to the notebook if you become disconnected from the internet for a long period of time. If this happens, first try reconnecting to the existing notebook. If it is still running then you will be able to reconnect by clicking *restart* in the Kernel tab of the toolbar. However, if you've become disconnected from the server then you will need to reopen the notebook by reconnecting to the server. To do this open a new tab so that you do not lose the contents in your existing notebook, and enter the URL to the assignment in the new tab. You can then restart in a new notebook."
   ]
  },
  {
   "cell_type": "markdown",
   "metadata": {},
   "source": [
    "### Submitting assignments\n",
    "\n",
    "When you reach the end of a notebook you should look back over the entire document to make sure you have answered all of the required questions or actions. If you have, then save the document one last time by clicking on `Save and Checkpoint` in the File Menu (or click on the disk in the upper left). \n",
    "\n",
    "When you are finished with a notebook and ready to submit it we ask that you download it as an **HTML version of the notebook to submit.** To do this, go to the 'File Menu', then 'Download as', and select HTML. \n",
    "\n",
    "Upload the HTML notebook file (e.g., `nb-1.0-jupyter.html`) to Courseworks to submit your assignment. "
   ]
  },
  {
   "cell_type": "markdown",
   "metadata": {},
   "source": [
    "<div class=\"alert alert-success\">\n",
    "    <b>Action:</b> Download your notebook in HTML format as described above. When you complete all of the notebooks for an assignment upload them to courseworks to submit your assignment. \n",
    "</div>"
   ]
  }
 ],
 "metadata": {
  "kernelspec": {
   "display_name": "Python 3",
   "language": "python",
   "name": "python3"
  },
  "language_info": {
   "codemirror_mode": {
    "name": "ipython",
    "version": 3
   },
   "file_extension": ".py",
   "mimetype": "text/x-python",
   "name": "python",
   "nbconvert_exporter": "python",
   "pygments_lexer": "ipython3",
   "version": "3.6.7"
  }
 },
 "nbformat": 4,
 "nbformat_minor": 2
}
