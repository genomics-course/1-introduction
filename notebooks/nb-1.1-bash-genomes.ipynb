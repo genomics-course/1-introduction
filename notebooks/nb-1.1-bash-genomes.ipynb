{
 "cells": [
  {
   "cell_type": "markdown",
   "metadata": {},
   "source": [
    "# Notebook 1.1: Introduction \n",
    "\n",
    "Before starting this notebook I recommend that you complete the 4 modules listed below in the **Linux Command Line Interface Tutorial** on [Codio](https://codio.com), which you can find on codio by clicking on the *Courses* tab on the left side, and then the *Recommended* tab on the top bar. If you feel you already have a good understanding of a command-line terminal then you can skip the codio tutorial and start directly on the exercise below.  \n",
    "\n",
    "- *Introduction*\n",
    "- *File System Commands*\n",
    "- *The File System*\n",
    "- *Searching Files and File Contents*\n"
   ]
  },
  {
   "cell_type": "markdown",
   "metadata": {},
   "source": [
    "### Learning objectives\n",
    "This notebook will demonstrate several of the skills you will learn in the Linux Command Line Tutorial, but applied to genomic data. By the end of this exercise you should: \n",
    "\n",
    "1. Recognize that the genome can be described using text data.  \n",
    "2. Be familiar with the fasta and GFF/GTF genomic file formats.   \n",
    "3. Know how to execute bash code in jupyter notebooks.  \n",
    "4. Recognize there are many useful unix tools for manipulating text/genomic data."
   ]
  },
  {
   "cell_type": "markdown",
   "metadata": {},
   "source": [
    "<div class=\"alert alert-success\">\n",
    "    Reminder: <b>Questions</b> that require you to respond using Markdown (text) or <b>Actions</b> that require you to edit and execute code to produce new results will be highlighted on a green background. \n",
    "</div>"
   ]
  },
  {
   "cell_type": "markdown",
   "metadata": {},
   "source": [
    "### Reference genomes\n",
    "\n",
    "*What does it mean to have assembled a reference genome?* Does it mean that every DNA base-pair in the genome was sequenced once? Or that we know where every gene is located in that genome? The short answer is *No*; even the most complete genome assemblies usually have some amount of missing information. For small genomes, like viruses, we can easily sequence every base, however, there remains variation among individuals and populations that is not represented in a single *reference genome*. For larger genomes, like humans, some parts of the genome are difficult to assemble because they are highly repetitive, and these are often missing or error-prone. \n",
    "\n",
    "Many genome assemblies are published only in *draft* form, meaning that they are still a work in progress. The best genomes are assembled into complete chromosomes, whereas many others are still represented as thousands of assembled fragments which we don't yet know how to piece together correctly. The evolution of new technologies for improving genome assemblies will be a major topic of this class. But for now, let's start by looking at a few small complete genomes. "
   ]
  },
  {
   "cell_type": "markdown",
   "metadata": {},
   "source": [
    "### DNA as text\n",
    "To look at genomes means to look at **text files**. That's right, genomic data can be represented as simple text, using the letters <span style=\"color:red;\">A</span>, <span style=\"color:green;\">C</span>, <span style=\"color:blue;\">G</span>, and <span style=\"color:darkorange;\">T</span> to refer to the nucleotides (molecules) that make up DNA. Pretty convenient, huh? \n",
    "\n",
    "Because genomic data files are typically large, analyzing or even just looking at genomic data  requires learning to use efficient software tools for working with large text files. It may surprise you to learn that many of the best tools for this are actually the basic command line tools developed for unix based computers. Computer file systems are also written in text, and so many of the most common and basic programming tools are designed specifically to be able to very efficiently read, edit, or analyze text. "
   ]
  },
  {
   "cell_type": "markdown",
   "metadata": {},
   "source": [
    "### Jupyter notebooks\n",
    "Jupyter notebooks are a powerful tool for combining code and written text together to create documents for sharing your work. In science we refer to this as *reproducibility* -- creating documents that others can use to reproduce our work entirely. In this course, we will use notebooks to share code with you for completing assignments; you can run the code, learn from it, and even edit the code or text. Upon completing each notebook, you will have entered in new values and produced new results, which you can then save, download and submit as your completed assignment for us to grade. If you need a refresher on how to use jupyter notebooks look back at the first notebook for this unit."
   ]
  },
  {
   "cell_type": "markdown",
   "metadata": {},
   "source": [
    "### Bash and Python \n",
    "\n",
    "The primary coding language used in Jupyter notebooks is Python. However, other languages can be used as well. In this class we will primarily use just two languages: **Python** and **Bash** (focusing first on bash, then Python, but we will continue to use both throughout the course). \n",
    "\n",
    "[Bash](https://en.wikipedia.org/wiki/Bash_(Unix_shell)) is a language for interacting with a **terminal** (it is a command line language). We will primarily use bash to run *executable computer programs* in a terminal. Those program themselves may be written in a variety of computer languages, often C, fortran, or even Python. There are several languages similar to bash for running commands in a terminal, of which bash is the most commonly used. "
   ]
  },
  {
   "cell_type": "markdown",
   "metadata": {},
   "source": [
    "### Running bash in jupyter\n",
    "\n",
    "In codio you can open a terminal at any time and execute bash code directly in it if you wish. However, for the purpose of your assignments we will have you instead execute bash code inside of jupyter notebooks. Again, this is for the sake of reproducibility, notebooks keep a record of the code that you execute, so it is easy to share, and for our purposes, to hand in as an assignment. \n",
    "\n",
    "To say that we are going to \"run a command line program using bash inside of a jupyter notebook\" is describing a [multi-layered](https://tenor.com/view/shrek-onions-gif-5703242) process: jupyter actually uses Python to connect to a temporary bash terminal, which then runs the command line program, captures the output, and returns it to jupyter, which displays the output in your notebook. This sounds complicated, but it's all happening behind the scenes. To run bash code in the notebook all you have to do is append  `%%bash` to the top of a code cell. "
   ]
  },
  {
   "cell_type": "markdown",
   "metadata": {},
   "source": [
    "## Unix command line tools\n",
    "\n",
    "Most of the tools we are going to use in this tutorial will be available on any \\*nix based computer system (e,g., linux, MacOSX), although which versions will come installed by default on a computer may vary slightly (e.g., you would replace `zcat` on linux with `gunzip -c` on Mac). In this notebook we will explore the following unix programs. There are many more that we do not mention here, and there are many tutorials available on-line to learn more about them. \n",
    "\n",
    "1. `pwd`: print working directory  \n",
    "2. `mkdir`: make a new directory  \n",
    "3. `ls`: list contents in a directory  \n",
    "4. `wget`: download from a URL (download or sub for `curl` on Mac)   \n",
    "5. `head`: print first N lines of a file  \n",
    "6. `cat/zcat`: stream/read through a file line by line  \n",
    "7. `grep`: select lines from a file based on matching characters  \n",
    "8. `cut`: select elements from text based on a delimiter/separator  \n",
    "9. `wc`: count words, lines, or bytes in a file  \n",
    "10. `awk`: match a pattern and perform action on conditional clause  "
   ]
  },
  {
   "cell_type": "code",
   "execution_count": 1,
   "metadata": {},
   "outputs": [
    {
     "name": "stdout",
     "output_type": "stream",
     "text": [
      "/home/deren/Documents/genomics-course/1-introduction/notebooks\n"
     ]
    }
   ],
   "source": [
    "%%bash\n",
    "# pwd: 'print working directory'\n",
    "pwd"
   ]
  },
  {
   "cell_type": "markdown",
   "metadata": {},
   "source": [
    "### Create a new directory to store downloaded genome files\n",
    "Here we will use the `mkdir` command to create a new directory (we'll add the `-p` option so that it doesn't matter if the directory already exists.) In this code block we also use the `ls` command with the option `-l` to show the contents of our current directory as a list. We can run as many bash commands as we want on separate lines of the same code block. However, when creating notebooks of your own it is generally good practice to break up code into atomized steps. From the output of `ls` below you can see that the new directory we created (genomes/) is now located inside of our current directory alongside this notebook and other files."
   ]
  },
  {
   "cell_type": "code",
   "execution_count": 2,
   "metadata": {},
   "outputs": [
    {
     "name": "stdout",
     "output_type": "stream",
     "text": [
      "total 92\n",
      "drwxrwxr-x 2 deren deren  4096 Jan 21 16:44 genomes\n",
      "-rw-rw-r-- 1 deren deren  9993 Jan 28 09:21 nb-1.0-jupyter.ipynb\n",
      "-rw-rw-r-- 1 deren deren 68689 Jan 28 09:12 nb-1.1-bash-genomes.ipynb\n",
      "-rw-rw-r-- 1 deren deren  7376 Feb  3 13:50 nb-1.2-genome-databases.ipynb\n"
     ]
    }
   ],
   "source": [
    "%%bash\n",
    "# make new directory called genomes in our current directory\n",
    "mkdir -p ./genomes/\n",
    "\n",
    "# show everything in my current directory as a list\n",
    "ls -l"
   ]
  },
  {
   "cell_type": "markdown",
   "metadata": {},
   "source": [
    "### Where do we get genomic data?\n",
    "\n",
    "There are several standardized databases for storing genomes and genomic data. We will likely use [NCBI](https://www.ncbi.nlm.nih.gov/home/about/) the most, since it is hosted by the US National Institutes of Health (NIH). We will cover genomic databases in more depth next week. \n",
    "\n",
    "Click here [https://ftp.ncbi.nlm.nih.gov/genomes/refseq/vertebrate_mammalian/Homo_sapiens/reference/GCF_000001405.38_GRCh38.p12/](https://ftp.ncbi.nlm.nih.gov/genomes/refseq/vertebrate_mammalian/Homo_sapiens/reference/GCF_000001405.38_GRCh38.p12/) to view an NCBI FTP site where the reference Human genome is hosted. As you can see there are many files containing different aspects of genome information. Some describe how the genome was assembled, others how many genes there are and where they are located. The assembled **genome sequence** itself is in a **fasta file**. This is the file we are interested in right now. *Do not click to download yet*, we will instead use a command line program to download files. This is generally good form, since you'll leave a record in your notebook of exactly where you got your data from (i.e., it is good for reproducibility)."
   ]
  },
  {
   "cell_type": "markdown",
   "metadata": {},
   "source": [
    "### Download a few (small) reference genome fasta files from public URLs\n",
    "We will use the unix command `wget` to retrieve data from a URL, with the option `-O` (capital o, not a zero) to designate the location where we want the file to be saved (for simplicity we also rename the files to a simpler name: virus, yeast, and chicken). Let's also add the option `-q` (quiet) to repress progress messages from being printed during the downloads (unless your download fails, then remove the `-q` to see the error message). This command will take a minute or two to run depending on your internet speed."
   ]
  },
  {
   "cell_type": "code",
   "execution_count": 3,
   "metadata": {},
   "outputs": [],
   "source": [
    "%%bash\n",
    "# to make this code more readable we will save the URLs as variables\n",
    "url1=\"https://ftp.ncbi.nlm.nih.gov/genomes/refseq/viral/Pandoravirus_quercus/latest_assembly_versions/GCF_003233895.1_ASM323389v1/GCF_003233895.1_ASM323389v1_genomic.fna.gz\"\n",
    "url2=\"https://ftp.ncbi.nlm.nih.gov/genomes/refseq/fungi/Saccharomyces_cerevisiae/reference/GCF_000146045.2_R64/GCF_000146045.2_R64_genomic.fna.gz\"\n",
    "url3=\"https://ftp.ncbi.nlm.nih.gov/genomes/refseq/vertebrate_other/Gallus_gallus/representative/GCF_000002315.5_GRCg6a/GCF_000002315.5_GRCg6a_genomic.fna.gz\"\n",
    "\n",
    "# now we can run the wget commands by referring to these variables\n",
    "wget $url1 -q -O ./genomes/virus.fna.gz\n",
    "wget $url2 -q -O ./genomes/yeast.fna.gz\n",
    "wget $url3 -q -O ./genomes/chicken.fna.gz"
   ]
  },
  {
   "cell_type": "markdown",
   "metadata": {},
   "source": [
    "### The format of the genome files\n",
    "We just downloaded three `fasta files`. Such files will usually have a suffix like `.fna` or `.fasta`. You can see that all of our files have the ending `.fna.gz`, meaning that they are in fasta format, but they are also *gzip compressed* (.gz). Compression is used to store large files more efficiently. When files are compressed we sometimes need to use additional tools to decompress them before reading the contents. Many genomic software tools are designed to work with compressed files so that we can just enter the compressed file into the program directly. Here we will leave the files compressed to save disk space (e.g. the compressed Chicken genome is about 0.3 Gb) and simply decompress their contents on the fly as we read/stream it.    "
   ]
  },
  {
   "cell_type": "code",
   "execution_count": 4,
   "metadata": {},
   "outputs": [
    {
     "name": "stdout",
     "output_type": "stream",
     "text": [
      "total 320M\n",
      "-rw-rw-r-- 1 deren deren 314M May 17  2018 chicken.fna.gz\n",
      "-rw-rw-r-- 1 deren deren 588K Jun 24  2018 virus.fna.gz\n",
      "-rw-rw-r-- 1 deren deren 3.7M Apr  9  2018 yeast.fna.gz\n",
      "-rw-rw-r-- 1 deren deren 1.4M Jan 28 09:07 yeast.gff.gz\n"
     ]
    }
   ],
   "source": [
    "%%bash\n",
    "# show the contents of the genomes directory\n",
    "ls -lh genomes"
   ]
  },
  {
   "cell_type": "markdown",
   "metadata": {},
   "source": [
    "### Look at the first couple lines of the compressed file\n",
    "A convenient tool for looking at just a few lines from a large file is the command `head`. We can pass this an additional argument to tell it how many lines to show us from the top of the file. Let's start by looking at the first 2 lines of one of the compressed genome files...\n",
    "\n",
    "It looks like gibberish, right? Well, that's what compressed files look like if you don't decompress them."
   ]
  },
  {
   "cell_type": "code",
   "execution_count": 5,
   "metadata": {},
   "outputs": [
    {
     "name": "stdout",
     "output_type": "stream",
     "text": [
      "\u001f�\b\u0000\u0000\u0000\u0000\u0000\u0000\u0003��ͮeˎ�׏��\u00070\f",
      "\u0019\u0006��\u0000�\r",
      "�\f",
      "7�7\u0004�B\u0010 �����\\��\r",
      "�ڙ�B*���͓�{��\u00193�\u001c",
      "\u001c",
      "?������_����_����o������\u001f�����������?�?��������������_��������������_�v2�:2�+������?����痝��������������_���ů��_ׯ?��矟�?�y��?~������\u0017�����_���\u0014y��ߍ�\u0013�ϒ�o\u001b���������Z5o\u0015\u001d",
      "�\u0017>\u001f��}�_o\u001c",
      "q_��}~�ƯO��\u0005>?��۟����\u001f���\u0005r��_|���P����6�\u0016ٿ^��G�������u?Wv�+q_}~�ן�}�2�{w򮟯\\yoȯ\u001f��u�\\�������y����M��S��u�I��>s�>�K���e�\u000b",
      "��C�|6�սP�7���\u001b�w}ܗ:5ˠ�Ku�\u0002�s�Z����?�|���&�'��\r",
      "��ޅ__y>�\\�{i�^����5Ss�����+-s>�窅�z�W��f��\u0000wi��믏\u0010�~�i�u���sa>����c~\u0015���k\u001d",
      "~��������O����\u0015�ź�%긏��|���]������g\u0016��A�ס��>?���y\">\u0017*�����_�7�Q�k�]\u0010�~y���\u0007�������;��ޛ�w�7����^�.��ϳ|��^�{\u001d",
      "??����׾O����e�-$Y��'f\u001b鹎'�u�g�y����;��a���Z�9�\u000f���/�:݇��:��\r",
      ">wFW�s��:�\u0016�e�kq?Q�Z���ι�fv��W�\u0012\u001e",
      "���w\u001d",
      "���Lz���Og{�����}V�]ح�,{\u001e",
      "��\u0013���.��\r",
      "γp����\\��9�K�u�_r^2��%�^�s'�\\Z���\u0017�\u0017|�3��]\\����>��3������G^���pE�&�/Z�����\u001aƬ3]�ϝ��>kΗ�?9������CK��\u000f�}�\"Y[ٳ��|����� �\u001f������D�������~���aΦ7�i��W�\u0007�1{��{����ܔ�\r",
      "��9z\u0010�\u0019<;s��!�z�>\u001f��z*����پ政\u001b�<��\u0019s��6;w!?[]��GR/3\u001f�>z9߬���/�#Z'F�BSwn�p�͙��ݏO0�o�^���\r",
      "L7�sE���^�}��1:\u0017��\u001e",
      "�\u001a�W�^֘\u001bpO�O�s\u000f�Y�S)i/�Ǽ�����\u0010f冎��.E�p+��\f",
      "sat\t�8W���9�������_���҃p���\u001a=�O�50\u000fƧZ�\"��)f�~�I�������0�2�����cN�3O�\u001c",
      "�A��j4�\u0004�ÿg\u001d",
      "��S�\u0014�7�\u001a}��=��Ϧ����\u0016FS\u001e",
      "��y`�9�ER�KG��\u001a�V �[j�Pfv�L<ߣ���s��3\u000f�j0�M�@~;T���A��|�Y\f",
      "�'��\u001c",
      "�4'�t\u00021\u0005��u�X���Tm*Y?��v\u000b",
      "�©)/S��~�{�B�eQq�\\����ve�7<S\b�-*���\u0001�/�z\u0016j���-qgU7\u000b",
      "*�n�\u000et\u000b",
      "�9^S���'�ccz��-�C>or��35�lN^�=��>��Vsu����\r",
      "\u001a�LU�~줊����~y�������7�sA���H��?�\u001e",
      "�,�)�������8\u001f1�[n\u0019v��Yms�|�͙�s��YvS\u0004kS�EJ�w�\u00113�7u0���Iցv�T�\u0016zz�ǾW�������T_�I��)�[pSb����㾠�'���\"�\u001d",
      "���O�4���}�9'��sh��|\u001e",
      "��&�s1���\u00178����t�\u001e",
      "������=��\u0013���?w��\u001e",
      "r��[��)Y�0��g����z��n���X��4\u001f��y��>���o3۠j��\u000f١\u0013���~N?��jWR�|jl5����)�|��O5e��N<']�\u0002�u8S4�S;��|\u0012����RhC΃�7�Y��>�~�UJ\u0004�Y��v|�U\u000f�~h�������\\�{�\u000fC\u0017�x��T�.�I�\u000f�}Pu��\u0003��`��|�\u0000_��0�Z�\u0013g�����\u0018\u0000\u001b�s+��O��)��,�2Рb�R�-�v��h���Ĭ�Њ��S���D��lC[+�s�/�RNm3%`ꙘE�\u0005��إIs�̖G���S�P+��]K�R\u0016_�^�i��<������AZk�Нjk����Օ�Z��Ds��\"�\u0007�k��~0g_�&'pi�@\u0015�:R�霅�6G���~\u0001�r75=��9��L�����a����9FK{�צ\u0018����}.SO���ؒWO�y��9\\��RE�nt�\u0005�.��ҏ�>�g��OY�����~=��>�-԰x�:~�����7��,�\u000b",
      "�MO�������ʜ{\u001aiCת�;�\u001f��Q�\u0005��\u0016l��@��TB�\u0014�q��9\u0002㖍=�nS���@ko��iU�\u0003�WҲh�\u000e�A㼞n���t\u0013.�>m�N\u001fzK�2\u0001�<�e\u00034�Z(73�}�<(�^/U�����)\u0001��\u0019�ZU�8�DQ\u0007f�j��mS���PU�=��|+UHs\u0007\u0005��\u001a5�i�\u0005o�/��)��Y.\u0015�%�b�Jp�چ��V\u000e�b\u0003\u0012S��F�\u000edj�A�TF��O5\u0018���� �s��`NgSS�-\u0018\u0002�x\u001b�i6�\u0001���\u0011�6�\u001bz���Ã\u0005�)�g�j�]��|~�T\u000fR�=>�cM��F���\u0016��B�\u000b",
      "��¾7%��<E@���UccN\u0003�\u0001\u000e3wq^�V\u000e���y\u000f\u000b",
      "V�\u0010���5�A\u0007/>8�B�\u0003\u0013��\u001c",
      "T\u0000ݥ�bNzc�\u0003(eh+n5�4�\u00033��\u0011���yVT��'�3�i\u001b�*r�{1\r",
      "��\u0000�\u0010�t�⿡��U��t�sݦ��ES8}N��<\u0014ٺp�Wk�CKR:\t��J�|���]j\u000e��o���n����n\r",
      "k\n",
      "\b\\��̢��\u0012<ͭ�d0�Y���M���Ou@]\u0010C �\u001c",
      "C|ܝl\r",
      "B����\u000b",
      "�\r",
      "\u0010�n��ۧ4\u0007vS��]LUt�N��<�\u0002���\u0016���g\u0010%5ڪH\u0006\u0010�vh\u000f��3̰I �,,\r",
      "\u0001?_٫iVV̿栗^�\u0004��`쯥\u0017:�4~�W�?�/�s�t��M3+!$y˂�g֖�����k?OX��\u0001#9FR��nۼ��B\u0017�=��h��{KS����bJi]��P��k�K�y�Nj[�g�\u0006��R$�\u001a1����\u000e^�w��R^�U<oS1jɫ'�\u001b�͌�?ep�����\u0001!L\u001d",
      "�-�S���skC)w�M�;�*�ѩȊ\u0012��e\u001f\r",
      "U�s�B{����\u0007.�]֣ZC�E\u0019�M-\u0000�]��\u000f�YiŃN�tTc� X\u0015\u0018�I��]�\",\u0003�tn�n�G�CiL�a��\u0001�g}�p�5�,|\u0018ޒ�pޱ\u0003,~�Jp��PG\u0012-4�y�;M�ѹ�ə���*���\u0014�j.T\u0010��\u0018�q��LK�x���t㌎g�e\u0003WGҴ\u0012��j&r:�d����l�9S����4��_�Hhv�\u0007�L_<�ߞ'{��Z�9�\u0007\n"
     ]
    }
   ],
   "source": [
    "%%bash\n",
    "# read a few lines of the compressed virus genome (it will look ugly)\n",
    "head -n 2 genomes/virus.fna.gz"
   ]
  },
  {
   "cell_type": "markdown",
   "metadata": {},
   "source": [
    "### `cat / zcat` is a command for streaming the entire contents of a file\n",
    "\n",
    "\n",
    "Here we are using two tricks: first, the command `zcat` can be used as a replacement for `cat`, the normal command we would use to stream a file to stdout (the output stream). The second trick here is that we are using a `pipe`. As you learned in your linux tutorial, pipes are used to send the output of one program directly into the input of another. Here we pipe the streamed output of `zcat` directly into the program `head`. This way we do not read the entire file into memory at once, which would be too much text for a jupyter notebook to display comfortably, and instead capture only the first N lines to print to stdout. As you can see, now that we are using the `zcat` command to decompress the stream of text it looks like sensible DNA data. "
   ]
  },
  {
   "cell_type": "code",
   "execution_count": 6,
   "metadata": {},
   "outputs": [
    {
     "name": "stdout",
     "output_type": "stream",
     "text": [
      ">NC_037667.1 Pandoravirus quercus, complete genome\n",
      "CCGGTACAGTGAGCGGTTCACGGCCTGGCCACGGTCGACGGAGTGCCGTGCGATGCCATCGGCGACGGCCGCGGCGACGT\n",
      "CGCGGGCATTCGCACGTGCGACCACAGCCGTCAGTGGTACTGGCGGGACGAGGCCGTCGGGGTGACGGACGTCGTCAAGA\n",
      "ACCTGCTCGATGCCATCACACGATGCGCCGAGTACGCGCACGATACCATCAGGGCGCCGTTGGCGAGCAAACCTGACACT\n",
      "GAGATTATGGAGTTCAGCGTCCGTTGCACCCGCCAGGCGGCGGCCGGAGGCGACGACGTCACGGACCCCATGCGCCGCTT\n",
      "GGACGCGAGGCCAGGCGCACGTGGCGCGCCTATCGCATGCACGCGCGCGTGTTCAGCGCCATCGCGTTGCTCGGCGGCGG\n",
      "ACCGCTGAGCATGATGGCGACGGCGGGTCTGCCCTTCTATGACGTGCGCCGGTACGCGCTGGTGGCGGCCCGCTACGACG\n",
      "GCCGCGCCGAACGCGCGTCGAGCCTGCTCCCAACACGCGTGCGACCAGACACCCTTGCGCACGAGGTGATGCGGTGCCGC\n",
      "GGCGATGGGCGTCTTCCGCGGCGCTCAATCGCGCACAGCCTCTTTGCAAGTTGGTTCGAACGCAATTACGCACTGGAGGG\n",
      "CTACGAGGACGCCAGCGGCATCGACGCCGTGTGGTACGACCATCTCGGTCAAGAGGGCACCCACGAGACCGACCGTTGGT\n"
     ]
    }
   ],
   "source": [
    "%%bash\n",
    "# run zcat and PIPE the output into head\n",
    "zcat genomes/virus.fna.gz | head -n 10"
   ]
  },
  {
   "cell_type": "markdown",
   "metadata": {},
   "source": [
    "<div class=\"alert alert-success\">\n",
    "    <b>Action:</b> In the code cell below write and run a bash command like the one above to stream the contents of a genome file using zcat and pipe it into the head command. In your code block, select the yeast genome file instead of the virus, and change the -n option of head to print 20 lines instead of 10.  \n",
    "</div>"
   ]
  },
  {
   "cell_type": "code",
   "execution_count": 7,
   "metadata": {},
   "outputs": [
    {
     "name": "stdout",
     "output_type": "stream",
     "text": [
      ">NC_001133.9 Saccharomyces cerevisiae S288C chromosome I, complete sequence\n",
      "ccacaccacacccacacacccacacaccacaccacacaccacaccacacccacacacacacatCCTAACACTACCCTAAC\n",
      "ACAGCCCTAATCTAACCCTGGCCAACCTGTCTCTCAACTTACCCTCCATTACCCTGCCTCCACTCGTTACCCTGTCCCAT\n",
      "TCAACCATACCACTCCGAACCACCATCCATCCCTCTACTTACTACCACTCACCCACCGTTACCCTCCAATTACCCATATC\n",
      "CAACCCACTGCCACTTACCCTACCATTACCCTACCATCCACCATGACCTACTCACCATACTGTTCTTCTACCCACCATAT\n",
      "TGAAACGCTAACAAATGATCGTAAATAACACACACGTGCTTACCCTACCACTTTATACCACCACCACATGCCATACTCAC\n",
      "CCTCACTTGTATACTGATTTTACGTACGCACACGGATGCTACAGTATATACCATCTCAAACTTACCCTACTCTCAGATTC\n",
      "CACTTCACTCCATGGCCCATCTCTCACTGAATCAGTACCAAATGCACTCACATCATTATGCACGGCACTTGCCTCAGCGG\n",
      "TCTATACCCTGTGCCATTTACCCATAACGCCCATCATTATCCACATTTTGATATCTATATCTCATTCGGCGGTcccaaat\n",
      "attgtataaCTGCCCTTAATACATACGTTATACCACTTTTGCACCATATACTTACCACTCCATTTATATACACTTATGTC\n",
      "AATATTACAGAAAAATCCCCACAAAAATCacctaaacataaaaatattctacttttcaacaataataCATAAACATATTG\n",
      "GCTTGTGGTAGCAACACTATCATGGTATCACTAACGTAAAAGTTCCTCAATATTGCAATTTGCTTGAACGGATGCTATTT\n",
      "CAGAATATTTCGTACTTACACAGGCCATACATTAGAATAATATGTCACATCACTGTCGTAACACTCTTTATTCACCGAGC\n",
      "AATAATACGGTAGTGGCTCAAACTCATGCGGGTGCTATGATACAATTATATCTTATTTCCATTCCCATATGCTAACCGCA\n",
      "ATATCCTAAAAGCATAACTGATGCATCTTTAATCTTGTATGTGACACTACTCATACGAAGGGACTATATCTAGTCAAGAC\n",
      "GATACTGTGATAGGTACGTTATTTAATAGGATCTATAACGAAATgtcaaataattttacgGTAATATAACTTATCAGCGG\n",
      "CGTATACTAAAACGGACGTTACGATATTGTCTCACTTCATCTTACCACCCTCTATCTTATTGCTGATAGAACACTAACCC\n",
      "CTCAGCTTTATTTCTAGTTACAGTTACACAAAAAACTATGCCAACCCAGAAATCTTGATATTTTACGTGTCAAAAAATGA\n",
      "GGGTCTCTAAATGAGAGTTTGGTACCATGACTTGTAACTCGCACTGCCCTGATCTGCAATCTTGTTCTTAGAAGTGACGC\n",
      "ATATTCTATACGGCCCGACGCGACGCgccaaaaaatgaaaaacgAAGCAGCGactcatttttatttaagGACAAAGGTTG\n"
     ]
    }
   ],
   "source": [
    "%%bash\n",
    "# run zcat and PIPE the output into head\n",
    "zcat genomes/yeast.fna.gz | head -n 20"
   ]
  },
  {
   "cell_type": "markdown",
   "metadata": {},
   "source": [
    "### The fasta format\n",
    "The fasta format is a simple file format used to list contiguous DNA sequences with identifiers. The sequences in a fasta file could be genes, or non-coding regions, or transposable elements, etc., or it could be all of those things ordered as a large contiguous sequence (<span style='color:red;'>a contig</span>), or a series of contigs (<span style='color:red;'>a scaffold</span>), or even as a complete chromosome, or multiple chromosomes. A small example is below:\n",
    "\n",
    "```\n",
    "> sequence 1 name and other notes about sequence 1\n",
    "AAAAAAAAAAAAAAAAAAATTTTTTTTCCCCCCCCCCCTTTTTTTTTTTTTGGGGGGGGGGG\n",
    "AAAAAAAAAAAAAAAAAAATTTTTTTTCCCCCCCCCCCTTTTTTTTTTTTTGGGGGGGGGGG\n",
    "AAAAAAAAAAAAAAAAAAATTTTTTTTCCCCCCCCCCCTTTTTTTTTTTTTGGGGGGGGGGG\n",
    "AAAAAAAAAAAAAAAAAAATTTTTTTTCCCCCCCCCCCTTTTTTTTTTTTTGGGGGGGGGGG\n",
    "AAAAAAAAAAAAAA\n",
    "> sequence 2 name and other notes about sequence 2\n",
    "AAAAAAAAAAAAAAAAAAATTTTTTTTCCCCCCCCCCCTTTTTTTTTTTTTGGGGGGGGGGG\n",
    "AAAAAAAAAAAAAAAAAAATTTTTTTTCCCCCCCCCCCTTTTTTTTTTTTTGGGGGGGGGGG\n",
    "AAAAAAAAAAAAAAAAAAATTTTTTTTCCCCCCCCCCCTTTTTTTTTTTTTGGGGGGGGGGG\n",
    "AAAAAAAAAAAAAA\n",
    "```\n",
    "\n",
    "In the virus genome file we can see that the name of the first sequence in the file is labeled \"... complete genome\", this is becuase the entire genome of this virus is contained on a single chromosome. "
   ]
  },
  {
   "cell_type": "markdown",
   "metadata": {},
   "source": [
    "### Searching text (grep)\n",
    "The sequence names in a fasta file always begin with the character `>`. When a character is used to separate elements in a file we refer to it as a **delimiter**. The `>` character in a fasta file delimits where one sequence stops and the next one begins. \n",
    "\n",
    "Knowing this, we can easily extract the names of all of the sequences in a fasta file by using the command line tool [`grep`](https://www.tutorialspoint.com/unix_commands/grep.htm) to extract lines that match a pattern we are searching for. This tool is explained in the Linux Command Line Tutorial, and you can find a quick grep tutorial [here](https://www.tutorialspoint.com/unix_commands/grep.htm) and in many other places online. Let's add an additional pipe to our command from above to now extract the sequence names in the Yeast genome file as we stream though it. As you can see, the only lines of the file that are returned are those which matched the `grep` search pattern (contained a `>` character). "
   ]
  },
  {
   "cell_type": "code",
   "execution_count": 8,
   "metadata": {
    "scrolled": true
   },
   "outputs": [
    {
     "name": "stdout",
     "output_type": "stream",
     "text": [
      ">NC_001133.9 Saccharomyces cerevisiae S288C chromosome I, complete sequence\n",
      ">NC_001134.8 Saccharomyces cerevisiae S288C chromosome II, complete sequence\n",
      ">NC_001135.5 Saccharomyces cerevisiae S288C chromosome III, complete sequence\n",
      ">NC_001136.10 Saccharomyces cerevisiae S288C chromosome IV, complete sequence\n",
      ">NC_001137.3 Saccharomyces cerevisiae S288C chromosome V, complete sequence\n",
      ">NC_001138.5 Saccharomyces cerevisiae S288C chromosome VI, complete sequence\n",
      ">NC_001139.9 Saccharomyces cerevisiae S288C chromosome VII, complete sequence\n",
      ">NC_001140.6 Saccharomyces cerevisiae S288C chromosome VIII, complete sequence\n",
      ">NC_001141.2 Saccharomyces cerevisiae S288C chromosome IX, complete sequence\n",
      ">NC_001142.9 Saccharomyces cerevisiae S288C chromosome X, complete sequence\n",
      ">NC_001143.9 Saccharomyces cerevisiae S288C chromosome XI, complete sequence\n",
      ">NC_001144.5 Saccharomyces cerevisiae S288C chromosome XII, complete sequence\n",
      ">NC_001145.3 Saccharomyces cerevisiae S288C chromosome XIII, complete sequence\n",
      ">NC_001146.8 Saccharomyces cerevisiae S288C chromosome XIV, complete sequence\n",
      ">NC_001147.6 Saccharomyces cerevisiae S288C chromosome XV, complete sequence\n",
      ">NC_001148.4 Saccharomyces cerevisiae S288C chromosome XVI, complete sequence\n",
      ">NC_001224.1 Saccharomyces cerevisiae S288c mitochondrion, complete genome\n"
     ]
    }
   ],
   "source": [
    "%%bash\n",
    "# pipe zcat output to grep\n",
    "zcat genomes/yeast.fna.gz | grep \">\""
   ]
  },
  {
   "cell_type": "markdown",
   "metadata": {},
   "source": [
    "### Sequence names/labels\n",
    "\n",
    "We can see from above that all of the sequences in the Yeast genome are complete chromosomes. This is not always the case, though. Below we run a `grep` search to get all lines of the Chicken genome file that contain \"chromosome 1\" in their names. As you can see, there are many scaffolds that match our search term, meaning there are many scaffolds in this assembly that are thought to be located *somewhere* on chromosome 1. "
   ]
  },
  {
   "cell_type": "code",
   "execution_count": 9,
   "metadata": {},
   "outputs": [
    {
     "name": "stdout",
     "output_type": "stream",
     "text": [
      ">NW_020109737.1 Gallus gallus breed Red Jungle Fowl isolate RJF #256 chromosome 1 unlocalized genomic scaffold, GRCg6a CHR1_134_RANDOM\n",
      ">NW_020109738.1 Gallus gallus breed Red Jungle Fowl isolate RJF #256 chromosome 1 unlocalized genomic scaffold, GRCg6a CHR1_360_RANDOM\n",
      ">NW_020109739.1 Gallus gallus breed Red Jungle Fowl isolate RJF #256 chromosome 1 unlocalized genomic scaffold, GRCg6a CHR1_123_RANDOM\n",
      ">NW_020109740.1 Gallus gallus breed Red Jungle Fowl isolate RJF #256 chromosome 1 unlocalized genomic scaffold, GRCg6a CHR1_132_RANDOM\n",
      ">NW_020109741.1 Gallus gallus breed Red Jungle Fowl isolate RJF #256 chromosome 1 unlocalized genomic scaffold, GRCg6a CHR1_330_RANDOM\n",
      ">NW_020109742.1 Gallus gallus breed Red Jungle Fowl isolate RJF #256 chromosome 1 unlocalized genomic scaffold, GRCg6a CHR1_247_RANDOM\n",
      ">NW_020109743.1 Gallus gallus breed Red Jungle Fowl isolate RJF #256 chromosome 1 unlocalized genomic scaffold, GRCg6a CHR1_347_RANDOM\n"
     ]
    }
   ],
   "source": [
    "%%bash\n",
    "zcat genomes/chicken.fna.gz | grep \"chromosome 1 \" | head -n 10"
   ]
  },
  {
   "cell_type": "markdown",
   "metadata": {},
   "source": [
    "<div class=\"alert alert-success\">\n",
    "    <b>Question:</b> \n",
    "    Why do you think the Chicken genome assembly contains many scaffolds with Chromosome 1 in the name whereas the Yeast genome has only one scaffold labeled chromosome I? Why does it take longer to search the Chicken genome? Answer in the markdown cell below.  \n",
    "</div>"
   ]
  },
  {
   "cell_type": "markdown",
   "metadata": {},
   "source": [
    "<div class=\"alert alert-warning\">\n",
    "\n",
    "<h3>Response:  </h3> \n",
    "\n",
    "The chicken chromosome is not assembled as completely as the yeast genome. This is likely because the yeast genome is much smaller, and perhaps less repetitive, and therefore it has been easier to assemble. \n",
    "\n",
    "</div>"
   ]
  },
  {
   "cell_type": "markdown",
   "metadata": {},
   "source": [
    "----------------------------------"
   ]
  },
  {
   "cell_type": "markdown",
   "metadata": {},
   "source": [
    "### Genome structure: mitochondrial genomes\n",
    "We can use `grep` to match lines of a file in order to answer basic questions about its contents. For example, we can search for the term \"mitochond\" in each genome to see if there is a sequence that is labeled as being from a mitochondrian. "
   ]
  },
  {
   "cell_type": "code",
   "execution_count": 10,
   "metadata": {},
   "outputs": [
    {
     "name": "stdout",
     "output_type": "stream",
     "text": [
      ">NC_001224.1 Saccharomyces cerevisiae S288c mitochondrion, complete genome\n",
      ">NC_001323.1 Gallus gallus mitochondrion, complete genome\n"
     ]
    }
   ],
   "source": [
    "%%bash\n",
    "\n",
    "zcat genomes/virus.fna.gz | grep mitochond\n",
    "zcat genomes/yeast.fna.gz | grep mitochond\n",
    "zcat genomes/chicken.fna.gz | grep mitochond\n"
   ]
  },
  {
   "cell_type": "markdown",
   "metadata": {},
   "source": [
    "<div class=\"alert alert-success\">\n",
    "    <b>Question:</b> Which one of the genomes does not have a chromosome with \"mitochond\" in its name (as we would expect if it has a mitochondrial genome)? Why would this genome not have a mitochondrian? Answer in the Markdown cell below. \n",
    "</div>"
   ]
  },
  {
   "cell_type": "markdown",
   "metadata": {},
   "source": [
    "<div class=\"alert alert-warning\">\n",
    "\n",
    "<h3>Response:  </h3> \n",
    "\n",
    "\n",
    "The virus genome does not have a mitochondrion. This is expected since only eukaryotes have mitochondria, which are derived from an ancient endosymbiotic relationship. \n",
    "\n",
    "\n",
    "</div>\n"
   ]
  },
  {
   "cell_type": "markdown",
   "metadata": {},
   "source": [
    "-----------------------------"
   ]
  },
  {
   "cell_type": "markdown",
   "metadata": {},
   "source": [
    "### How large is each genome?\n",
    "\n",
    "Organisms differ widely in their genome sizes, but how do we know how large genomes are? ([read here](https://en.wikipedia.org/wiki/Genome_size))\n",
    "\n",
    "We can estimate genome sizes from several types of measurements. The most common way is to use [flow cytometry](https://en.wikipedia.org/wiki/Flow_cytometry) to estimate genome size from the mass of DNA in a cell. However, in addition, to the extent that we believe that our genome is reasonably accurately assembled (a topic we will discuss later), we can also estimate the genome size by simply asking how many characters are in the fasta file of the assembled genome. \n",
    "\n",
    "For this, we can use the program [`wc`](https://www.howtoforge.com/linux-wc-command-explained-for-beginners-6-examples/), which stands for word count. We will also pass the option `-m` to return the result as a count of characters (as opposed to lines or bytes or the other things `wc` can count). Remember, we still need to decompress the file when running this command, since as we saw above the contents of compressed files look very different from the decompressed version. Below we use `zcat` to pipe the stream of text into `wc`. "
   ]
  },
  {
   "cell_type": "code",
   "execution_count": 11,
   "metadata": {},
   "outputs": [
    {
     "name": "stdout",
     "output_type": "stream",
     "text": [
      "2103306\n",
      "12310392\n",
      "1078736215\n"
     ]
    }
   ],
   "source": [
    "%%bash\n",
    "# count characters in each file\n",
    "zcat genomes/virus.fna.gz | wc -m \n",
    "zcat genomes/yeast.fna.gz | wc -m\n",
    "zcat genomes/chicken.fna.gz | wc -m"
   ]
  },
  {
   "cell_type": "code",
   "execution_count": 12,
   "metadata": {},
   "outputs": [
    {
     "name": "stdout",
     "output_type": "stream",
     "text": [
      "2103255\n",
      "12309078\n",
      "1078682722\n"
     ]
    }
   ],
   "source": [
    "%%bash\n",
    "# more accurately, we should exclude seq name lines using grep (line starting with '>')\n",
    "zcat genomes/virus.fna.gz | grep -v '^>' | wc -m \n",
    "zcat genomes/yeast.fna.gz | grep -v '^>' | wc -m\n",
    "zcat genomes/chicken.fna.gz | grep -v '^>' | wc -m"
   ]
  },
  {
   "cell_type": "markdown",
   "metadata": {},
   "source": [
    "<div class=\"alert alert-success\">\n",
    "    <b>Question:</b> \n",
    "    Using google search to find the size of the baker's yeast genome (Saccharomyces cereviseae). Does the number of characters in the genome file match closely to the estimated genome size? List the source you used for the yeast genome size.\n",
    "</div>"
   ]
  },
  {
   "cell_type": "markdown",
   "metadata": {},
   "source": [
    "<div class=\"alert alert-warning\">\n",
    "\n",
    "<h3>Response:  </h3> \n",
    "\n",
    "\n",
    "12.1 Mb, as retrieved from Wikipedia which cites \"Saccharomyces Genome Database\". Yeastgenome.org. Retrieved 27 January 2011.\n",
    "\n",
    "\n",
    "</div>\n"
   ]
  },
  {
   "cell_type": "markdown",
   "metadata": {},
   "source": [
    "-----------------------------------"
   ]
  },
  {
   "cell_type": "markdown",
   "metadata": {},
   "source": [
    "### Genome annotations: Features (exons, introns, repeats, etc.)\n",
    "\n",
    "Once a genome has been assembled the next task is typically to try to describe the contents of the genome in terms of the function of its different parts. This is termed **genome annotatation**. Where are the genes, how many are there, and within each how many exons or introns are there? Where are repetitive elements, and how much of the genome do they compose? How such features are identified will be the subject of next week's assignment, but assuming they have been identified correctly, we will look now at how these results are saved and how we can access that information."
   ]
  },
  {
   "cell_type": "markdown",
   "metadata": {},
   "source": [
    "### General feature format (GFF/GTF)\n",
    "\n",
    "There are several formats for storing identified genome features called [GFF or GTF or GFF3 files](https://useast.ensembl.org/info/website/upload/gff3.html). In this tabular formatted file feature names are mapped to coordinates of the genome in terms of the scaffold or chromosome names and their start:stop positions. Features are named according to a specific naming system (ontology) that **we will discuss more in the future**. But for now, take note that it is a hierarchical system (subunits nested within higher level units), as represented by the figure below. All of the elements below gene1 are parts that make up the unit we are calling gene 1, which includes messenger RNAs, exons, and coding sequences (exons - introns - UTRs).  \n",
    "\n",
    "```\n",
    "    gene1            ================================    ID=gene1  \n",
    "    mRNA1            ================================    ID=mRNA1;Parent=gene1  \n",
    "    five_prime_UTR   ==                                  Parent=mRNA1  \n",
    "    CDS1               ==....=====...........==          Parent=mRNA1 (3 rows)  \n",
    "    three_prime_UTR                            ======    Parent=mRNA1\n",
    "    mRNA2            ================================    ID=mRNA2;Parent=gene1\n",
    "    exon             ====                                Parent=mRNA2\n",
    "    CDS2               ==....................==          Parent=mRNA2 (2 rows)\n",
    "    exon                                     ========    Parent=mRNA2\n",
    "```"
   ]
  },
  {
   "cell_type": "markdown",
   "metadata": {},
   "source": [
    "### Download the GFF file for the Yeast genome assembly. \n",
    "As before we will use the `wget` command to download the file which is available from the same location as the fasta file. "
   ]
  },
  {
   "cell_type": "code",
   "execution_count": 13,
   "metadata": {},
   "outputs": [],
   "source": [
    "%%bash\n",
    "# download GFF file for Yeast assembly from URL\n",
    "url=\"https://ftp.ncbi.nlm.nih.gov/genomes/refseq/fungi/Saccharomyces_cerevisiae/reference/GCF_000146045.2_R64/GCF_000146045.2_R64_genomic.gff.gz\"\n",
    "wget $url -q -O ./genomes/yeast.gff.gz"
   ]
  },
  {
   "cell_type": "markdown",
   "metadata": {},
   "source": [
    "### Format of the GFF file\n",
    "\n",
    "Let's take a look at the file. It is tab-delimited, and contains several columns with information about where genomic regions start and stop, and what information is known about those regions. The `fields` listed on each line of the GFF file are as follows:\n",
    "\n",
    "`seqid` - name of the chromosome or scaffold;  \n",
    "`source` - name of the program, database, or project that generated this feature;  \n",
    "`type` - type of feature. Must be a term or accession from the SOFA sequence ontology;  \n",
    "`start` - Start position of the feature, with sequence numbering starting at 1;  \n",
    "`end` - End position of the feature, with sequence numbering starting at 1;  \n",
    "`score` - A floating point value;  \n",
    "`strand` - defined as + (forward) or - (reverse);  \n",
    "`phase` - One of '0', '1' or '2': which base in the first base of a codon;  \n",
    "`attributes` - A semicolon-separated list of tag-value pairs of additional info;\n",
    "\n",
    "\n",
    "Let's look at the first few lines of the file using `head`. The first few lines start with `#`, these are comment lines that make up the header of the file. THis is for storing *metadata*; information about this file and how it was made. The contents of the "
   ]
  },
  {
   "cell_type": "code",
   "execution_count": 14,
   "metadata": {},
   "outputs": [
    {
     "name": "stdout",
     "output_type": "stream",
     "text": [
      "##gff-version 3\n",
      "#!gff-spec-version 1.21\n",
      "#!processor NCBI annotwriter\n",
      "#!genome-build R64\n",
      "#!genome-build-accession NCBI_Assembly:GCF_000146045.2\n",
      "#!annotation-source SGD R64-2-1\n",
      "##sequence-region NC_001133.9 1 230218\n",
      "##species https://www.ncbi.nlm.nih.gov/Taxonomy/Browser/wwwtax.cgi?id=559292\n",
      "NC_001133.9\tRefSeq\tregion\t1\t230218\t.\t+\t.\tID=id0;Dbxref=taxon:559292;Name=I;chromosome=I;gbkey=Src;genome=chromosome;mol_type=genomic DNA;strain=S288C\n",
      "NC_001133.9\tRefSeq\ttelomere\t1\t801\t.\t-\t.\tID=id1;Dbxref=SGD:S000028862;Note=TEL01L%3B Telomeric region on the left arm of Chromosome I%3B composed of an X element core sequence%2C X element combinatorial repeats%2C and a short terminal stretch of telomeric repeats;gbkey=telomere\n",
      "NC_001133.9\tRefSeq\torigin_of_replication\t707\t776\t.\t+\t.\tID=id2;Dbxref=SGD:S000121252;Note=ARS102~Autonomously Replicating Sequence;gbkey=rep_origin\n",
      "NC_001133.9\tRefSeq\tgene\t1807\t2169\t.\t-\t.\tID=gene0;Dbxref=GeneID:851229;Name=PAU8;end_range=2169,.;gbkey=Gene;gene=PAU8;gene_biotype=protein_coding;locus_tag=YAL068C;partial=true;start_range=.,1807\n",
      "NC_001133.9\tRefSeq\tmRNA\t1807\t2169\t.\t-\t.\tID=rna0;Parent=gene0;Dbxref=GeneID:851229,Genbank:NM_001180043.1;Name=NM_001180043.1;end_range=2169,.;gbkey=mRNA;gene=PAU8;partial=true;product=seripauperin PAU8;start_range=.,1807;transcript_id=NM_001180043.1\n",
      "NC_001133.9\tRefSeq\texon\t1807\t2169\t.\t-\t.\tID=id3;Parent=rna0;Dbxref=GeneID:851229,Genbank:NM_001180043.1;end_range=2169,.;gbkey=mRNA;gene=PAU8;partial=true;product=seripauperin PAU8;start_range=.,1807;transcript_id=NM_001180043.1\n",
      "NC_001133.9\tRefSeq\tCDS\t1807\t2169\t.\t-\t0\tID=cds0;Parent=rna0;Dbxref=SGD:S000002142,GeneID:851229,Genbank:NP_009332.1;Name=NP_009332.1;Note=hypothetical protein%3B member of the seripauperin multigene family encoded mainly in subtelomeric regions;gbkey=CDS;gene=PAU8;product=seripauperin PAU8;protein_id=NP_009332.1\n"
     ]
    }
   ],
   "source": [
    "%%bash\n",
    "# look at a few lines of the GFF\n",
    "zcat genomes/yeast.gff.gz | head -n 15"
   ]
  },
  {
   "cell_type": "markdown",
   "metadata": {},
   "source": [
    "### Selecting fields from a delimited file\n",
    "As you can see it is kind of hard to read the GFF file using a terminal, especially without turning on line-wrapping for long-lines (which unfortunately is not easy to do within a jupyter notebook). The basic unix tools are great for quickly searching for elements in the GFF file, because again, these files can sometimes be very large. The Yeast genome is considered quite small, and its GFF file is still more than 26K lines long, so it would still be hard to make sense of if you tried to interact with it using excel. Let's explore more unix tools for searching parts of the file and displaying them nicely in the terminal. "
   ]
  },
  {
   "cell_type": "markdown",
   "metadata": {},
   "source": [
    "### Using `cut`\n",
    "The program [`cut`](https://en.wikipedia.org/wiki/Cut_(Unix)) is useful for selecting delimited text (text with a separating character). Below we will combine `cut` with `zcat` and `grep` to select elements from the GFF file. Let's start by selecting just the first few columns so that the results are a bit more readable. We will also use grep reverse matching (`-v`) to exclude the first few lines of metadata. "
   ]
  },
  {
   "cell_type": "code",
   "execution_count": 15,
   "metadata": {},
   "outputs": [
    {
     "name": "stdout",
     "output_type": "stream",
     "text": [
      "NC_001133.9\tRefSeq\tregion\t1\t230218\n",
      "NC_001133.9\tRefSeq\ttelomere\t1\t801\n",
      "NC_001133.9\tRefSeq\torigin_of_replication\t707\t776\n",
      "NC_001133.9\tRefSeq\tgene\t1807\t2169\n",
      "NC_001133.9\tRefSeq\tmRNA\t1807\t2169\n",
      "NC_001133.9\tRefSeq\texon\t1807\t2169\n",
      "NC_001133.9\tRefSeq\tCDS\t1807\t2169\n",
      "NC_001133.9\tRefSeq\tgene\t2480\t2707\n",
      "NC_001133.9\tRefSeq\tmRNA\t2480\t2707\n",
      "NC_001133.9\tRefSeq\texon\t2480\t2707\n"
     ]
    }
   ],
   "source": [
    "%%bash\n",
    "# read file | get lines not starting with # | get fields 1-5 | show first 10 lines\n",
    "zcat genomes/yeast.gff.gz | grep -v \"^#\" | cut -f 1-5 | head -n 10"
   ]
  },
  {
   "cell_type": "markdown",
   "metadata": {},
   "source": [
    "### Nested features\n",
    "\n",
    "As you can see from the few features in the GFF file above, the first element is defined as a `region` and this spans from position 1-230219. The next feature is defined as a telomere which stretches from positions 1-801. How can both of these features start at position 1? It is because the second is nested within the first. It is a telomere located in the first region. In this case, region 1 is referring to the first chromosome. Let's confirm this by looking at all of the `region` elements in the file. \n"
   ]
  },
  {
   "cell_type": "code",
   "execution_count": 16,
   "metadata": {},
   "outputs": [
    {
     "name": "stdout",
     "output_type": "stream",
     "text": [
      "NC_001133.9\tRefSeq\tregion\t1\t230218\n",
      "NC_001134.8\tRefSeq\tregion\t1\t813184\n",
      "NC_001135.5\tRefSeq\tregion\t1\t316620\n",
      "NC_001136.10\tRefSeq\tregion\t1\t1531933\n",
      "NC_001137.3\tRefSeq\tregion\t1\t576874\n",
      "NC_001138.5\tRefSeq\tregion\t1\t270161\n",
      "NC_001139.9\tRefSeq\tregion\t1\t1090940\n",
      "NC_001140.6\tRefSeq\tregion\t1\t562643\n",
      "NC_001141.2\tRefSeq\tregion\t1\t439888\n",
      "NC_001142.9\tRefSeq\tregion\t1\t745751\n",
      "NC_001143.9\tRefSeq\tregion\t1\t666816\n",
      "NC_001144.5\tRefSeq\tregion\t1\t1078177\n",
      "NC_001145.3\tRefSeq\tregion\t1\t924431\n",
      "NC_001146.8\tRefSeq\tregion\t1\t784333\n",
      "NC_001147.6\tRefSeq\tregion\t1\t1091291\n",
      "NC_001148.4\tRefSeq\tregion\t1\t948066\n",
      "NC_001224.1\tRefSeq\tregion\t1\t85779\n"
     ]
    }
   ],
   "source": [
    "%%bash\n",
    "# read file | exclude lines starting with # | get fields 1-5 | keep lines with word 'region'\n",
    "zcat genomes/yeast.gff.gz | grep -v \"^#\" | cut -f 1-5 | grep -w 'region' "
   ]
  },
  {
   "cell_type": "markdown",
   "metadata": {},
   "source": [
    "Something to take note of here: each region here has a different `seqid` (the first column in the data). This is because the `seqid` refers to chromosomes/scaffolds and each region here is a chromosome. All of the other elements nested inside of the regions have the same `seqid`, but different start and stop positions. We can see this by running the same command as above, but adding the `-A` argument to `grep` so that it also prints 1 additional line after each match. Here you can see that the telomere that starts each chromosome has the same `seqid` as the chromosome, and stretches from 1 to some length."
   ]
  },
  {
   "cell_type": "code",
   "execution_count": 17,
   "metadata": {
    "scrolled": false
   },
   "outputs": [
    {
     "name": "stdout",
     "output_type": "stream",
     "text": [
      "NC_001133.9\tRefSeq\tregion\t1\t230218\n",
      "NC_001133.9\tRefSeq\ttelomere\t1\t801\n",
      "--\n",
      "NC_001134.8\tRefSeq\tregion\t1\t813184\n",
      "NC_001134.8\tRefSeq\ttelomere\t1\t6608\n",
      "--\n",
      "NC_001135.5\tRefSeq\tregion\t1\t316620\n",
      "NC_001135.5\tRefSeq\ttelomere\t1\t1098\n",
      "--\n",
      "NC_001136.10\tRefSeq\tregion\t1\t1531933\n",
      "NC_001136.10\tRefSeq\ttelomere\t1\t904\n",
      "--\n",
      "NC_001137.3\tRefSeq\tregion\t1\t576874\n",
      "NC_001137.3\tRefSeq\ttelomere\t1\t6473\n",
      "--\n",
      "NC_001138.5\tRefSeq\tregion\t1\t270161\n",
      "NC_001138.5\tRefSeq\ttelomere\t1\t5530\n",
      "--\n",
      "NC_001139.9\tRefSeq\tregion\t1\t1090940\n",
      "NC_001139.9\tRefSeq\ttelomere\t1\t781\n",
      "--\n",
      "NC_001140.6\tRefSeq\tregion\t1\t562643\n",
      "NC_001140.6\tRefSeq\ttelomere\t1\t5505\n",
      "--\n",
      "NC_001141.2\tRefSeq\tregion\t1\t439888\n",
      "NC_001141.2\tRefSeq\ttelomere\t1\t7784\n",
      "--\n",
      "NC_001142.9\tRefSeq\tregion\t1\t745751\n",
      "NC_001142.9\tRefSeq\ttelomere\t1\t7767\n",
      "--\n",
      "NC_001143.9\tRefSeq\tregion\t1\t666816\n",
      "NC_001143.9\tRefSeq\ttelomere\t1\t807\n",
      "--\n",
      "NC_001144.5\tRefSeq\tregion\t1\t1078177\n",
      "NC_001144.5\tRefSeq\ttelomere\t1\t12085\n",
      "--\n",
      "NC_001145.3\tRefSeq\tregion\t1\t924431\n",
      "NC_001145.3\tRefSeq\ttelomere\t1\t6344\n",
      "--\n",
      "NC_001146.8\tRefSeq\tregion\t1\t784333\n",
      "NC_001146.8\tRefSeq\ttelomere\t1\t7428\n",
      "--\n",
      "NC_001147.6\tRefSeq\tregion\t1\t1091291\n",
      "NC_001147.6\tRefSeq\ttelomere\t1\t847\n",
      "--\n",
      "NC_001148.4\tRefSeq\tregion\t1\t948066\n",
      "NC_001148.4\tRefSeq\ttelomere\t1\t7223\n",
      "--\n",
      "NC_001224.1\tRefSeq\tregion\t1\t85779\n",
      "NC_001224.1\tRefSeq\tgene\t731\t802\n"
     ]
    }
   ],
   "source": [
    "%%bash\n",
    "# read file | not lines start w/ # | only fields 1-5 | only w/ 'region' & print next line\n",
    "zcat genomes/yeast.gff.gz | grep -v \"^#\" | cut -f 1-5 | grep -w 'region' -A1 "
   ]
  },
  {
   "cell_type": "markdown",
   "metadata": {},
   "source": [
    "### Counting genes in the GFF file\n",
    "\n",
    "One type of feature listed in the GFF file are `genes`. As we said earlier, this term is used to describe a particular type of feature according to a set of definitions (an ontology) for how to define genomic elements (more on this next week). Let's search for how many genes are in the Yeast GFF file by grepping the word \"gene\". Take note, we are not searching the whole file for just the term gene, because it actually appears quite commonly (for example, in the words genetic or geneID). Instead, we first pull out the column of features so that we are only searching this, and then search for word matches (`-w` option) with grep. Finally, we can use the `-c` option of grep to count the number of matching lines rather than return them. "
   ]
  },
  {
   "cell_type": "code",
   "execution_count": 18,
   "metadata": {},
   "outputs": [
    {
     "name": "stdout",
     "output_type": "stream",
     "text": [
      "6427\n"
     ]
    }
   ],
   "source": [
    "%%bash\n",
    "# read file | get 3rd field | grep -w = match to word 'gene', -c count number of times\n",
    "zcat genomes/yeast.gff.gz | cut -f 3 | grep -wc \"gene\" "
   ]
  },
  {
   "cell_type": "markdown",
   "metadata": {},
   "source": [
    "<div class=\"alert alert-success\">\n",
    "    <b>Question:</b> \n",
    "    Using google search to find how many genes are estimated to be in the yeast (Saccharomyces cereviseae) genome. Is it similar to what you found in the grep command above? Why do you think the results might vary? List the online source you used for the number of genes in yeast.  \n",
    "</div>\n",
    "\n"
   ]
  },
  {
   "cell_type": "markdown",
   "metadata": {},
   "source": [
    "<div class=\"alert alert-warning\">\n",
    "\n",
    "<h3>Response:  </h3> \n",
    "\n",
    "According to Mackiewicz et al. the answer is 5300-5400 genes. Source: How many protein-coding genes are there in the Saccharomyces cerevisiae genome? Mackiewicz P, et al. Yeast. 2002.). However, that paper is likely out of date since it predates modern genome sequencing methods. The GFF files on NCBI are updated frequently, so this represents the most up-to-date view. \n",
    "\n",
    "</div>\n"
   ]
  },
  {
   "cell_type": "markdown",
   "metadata": {},
   "source": [
    "----------------------------"
   ]
  },
  {
   "cell_type": "markdown",
   "metadata": {},
   "source": [
    "### Pipes: from simple to complex\n",
    "\n",
    "Using pipes you can combine many unix commands to accomplish complex tasks. Although the function of each individual program may seem limited, as you learn more and more of these atomic tasks you can combine them to do just about aything with text, and often quite fast. Here we combine several commands to count the top ten features that occur most in the Yeast GFF file and order and print them. "
   ]
  },
  {
   "cell_type": "code",
   "execution_count": 19,
   "metadata": {},
   "outputs": [
    {
     "name": "stdout",
     "output_type": "stream",
     "text": [
      "   6761 exon\n",
      "   6427 gene\n",
      "   6366 CDS\n",
      "   5995 mRNA\n",
      "    383 long_terminal_repeat\n",
      "    360 origin_of_replication\n",
      "    299 tRNA\n",
      "     77 snoRNA\n",
      "     64 centromere\n",
      "     50 mobile_genetic_element\n"
     ]
    }
   ],
   "source": [
    "%%bash\n",
    "# extend a command over multiple lines\n",
    "zcat genomes/yeast.gff.gz | grep -v '^#' | cut -sf 3 | sort | uniq -c | sort -rn | head "
   ]
  },
  {
   "cell_type": "markdown",
   "metadata": {},
   "source": [
    "#### Splitting commands over multiple lines\n",
    "Sometimes long commands can become difficult to read. You can split a command over multiple lines by ending each line with a forward slash character. This makes it easier to read. "
   ]
  },
  {
   "cell_type": "code",
   "execution_count": 20,
   "metadata": {},
   "outputs": [
    {
     "name": "stdout",
     "output_type": "stream",
     "text": [
      "   6761 exon\n",
      "   6427 gene\n",
      "   6366 CDS\n",
      "   5995 mRNA\n",
      "    383 long_terminal_repeat\n",
      "    360 origin_of_replication\n",
      "    299 tRNA\n",
      "     77 snoRNA\n",
      "     64 centromere\n",
      "     50 mobile_genetic_element\n"
     ]
    }
   ],
   "source": [
    "%%bash\n",
    "# extend a command over multiple lines\n",
    "zcat genomes/yeast.gff.gz | \\\n",
    "    grep -v '^#' | \\\n",
    "    cut -s -f 3 | \\\n",
    "    sort | \\\n",
    "    uniq -c | \\\n",
    "    sort -rn | \\\n",
    "    head"
   ]
  },
  {
   "cell_type": "markdown",
   "metadata": {},
   "source": [
    "### Parsing attribute information from the GFF\n",
    "\n",
    "The final column of the GFF file, *the attributes*, is a bit more difficult to read and comprehend, but this is where the real details about each genetic feature are found. For example, you can find gene names, and descriptions of their functions in the attributes, as well as get ontology IDs that can be used to learn more about the type of feature. \n",
    "\n",
    "Information in the `attribute` field is one long string of text that is delimited by semicolons. So to parse it we need to split elements on this character. Below is an example using a combination of `grep` and `cut` commands like we've used above to select the first 10 genes and print their names. \n"
   ]
  },
  {
   "cell_type": "code",
   "execution_count": 21,
   "metadata": {},
   "outputs": [
    {
     "name": "stdout",
     "output_type": "stream",
     "text": [
      "ID=gene0;Name=PAU8\n",
      "ID=gene1;Name=YAL067W-A\n",
      "ID=gene2;Name=SEO1\n",
      "ID=gene3;Name=YAL065C\n",
      "ID=gene4;Name=YAL064W-B\n",
      "ID=gene5;Name=TDA8\n",
      "ID=gene6;Name=YAL064W\n",
      "ID=gene7;Name=YAL063C-A\n",
      "ID=gene8;Name=FLO9\n",
      "ID=gene9;Name=GDH3\n"
     ]
    }
   ],
   "source": [
    "%%bash\n",
    "# print the first 10 genes and the gene names\n",
    "zcat genomes/yeast.gff.gz | cut -f 9 | grep \"ID=gene\" | cut -d';' -f 1,3 | head -n 10"
   ]
  },
  {
   "cell_type": "markdown",
   "metadata": {},
   "source": [
    "### Using `awk` to match text\n",
    "\n",
    "Another great tool that can perform similar tasks to this is called [awk](https://www.ibm.com/developerworks/library/l-awk1/index.html). The basic format of an `awk` command is in the form of a string argument stating `\"x == y {do z}\"`. It is similar to cut in that it is designed to work on delimited fields of text. Below we print the attributes field (`$9`) if the type field (`$3`) matches 'gene'. Using awk we can accomplish similar tasks to what we did above using grep and cut. \n",
    "\n",
    "NB: Awk is a complex tool that can take a long time to master. We do not expect you to master it today. Just try it out. By learning that it exists and what it can do you can more easily google later to find an awk command that will accomplish the task you are attempting. But don't get too worried if you find this last section difficult. \n"
   ]
  },
  {
   "cell_type": "code",
   "execution_count": 22,
   "metadata": {},
   "outputs": [
    {
     "name": "stdout",
     "output_type": "stream",
     "text": [
      "ID=gene0;Dbxref=GeneID:851229;Name=PAU8;end_range=2169,.;gbkey=Gene;gene=PAU8;gene_biotype=protein_coding;locus_tag=YAL068C;partial=true;start_range=.,1807\n",
      "ID=gene1;Dbxref=GeneID:1466426;Name=YAL067W-A;end_range=2707,.;gbkey=Gene;gene_biotype=protein_coding;locus_tag=YAL067W-A;partial=true;start_range=.,2480\n",
      "ID=gene2;Dbxref=GeneID:851230;Name=SEO1;end_range=9016,.;gbkey=Gene;gene=SEO1;gene_biotype=protein_coding;locus_tag=YAL067C;partial=true;start_range=.,7235\n",
      "ID=gene3;Dbxref=GeneID:851232;Name=YAL065C;end_range=11951,.;gbkey=Gene;gene_biotype=protein_coding;locus_tag=YAL065C;partial=true;start_range=.,11565\n",
      "ID=gene4;Dbxref=GeneID:851233;Name=YAL064W-B;end_range=12426,.;gbkey=Gene;gene_biotype=protein_coding;locus_tag=YAL064W-B;partial=true;start_range=.,12046\n"
     ]
    }
   ],
   "source": [
    "%%bash\n",
    "# if field 3 is gene then return field 9\n",
    "zcat genomes/yeast.gff.gz | awk '$3 == \"gene\" {print $9}' | head -n 5"
   ]
  },
  {
   "cell_type": "markdown",
   "metadata": {},
   "source": [
    "### Awk, pipe, and repeat\n",
    "\n",
    "We can combine multiple `awk` calls so that we can parse the results from one command with another. For example, we could select elements of each line by splitting on tabs using the `-F` (field) argument, and then parse those results by splitting them with a different delimiter like a semicolon by using `-F ;`. This can be useful for parsing a result like in the example above. Let's try this to select a few items (1, 2, and 3) from the attributes field (field 9) of lines in the GFF file describing genes. "
   ]
  },
  {
   "cell_type": "code",
   "execution_count": 23,
   "metadata": {},
   "outputs": [
    {
     "name": "stdout",
     "output_type": "stream",
     "text": [
      "ID=gene0 Dbxref=GeneID:851229 Name=PAU8\n",
      "ID=gene1 Dbxref=GeneID:1466426 Name=YAL067W-A\n",
      "ID=gene2 Dbxref=GeneID:851230 Name=SEO1\n",
      "ID=gene3 Dbxref=GeneID:851232 Name=YAL065C\n",
      "ID=gene4 Dbxref=GeneID:851233 Name=YAL064W-B\n",
      "ID=gene5 Dbxref=GeneID:851234 Name=TDA8\n",
      "ID=gene6 Dbxref=GeneID:851235 Name=YAL064W\n",
      "ID=gene7 Dbxref=GeneID:1466427 Name=YAL063C-A\n",
      "ID=gene8 Dbxref=GeneID:851236 Name=FLO9\n",
      "ID=gene9 Dbxref=GeneID:851237 Name=GDH3\n"
     ]
    }
   ],
   "source": [
    "%%bash\n",
    "# if field 3 is gene then return field 9, then split on ; and select first 3 items\n",
    "zcat genomes/yeast.gff.gz | \\\n",
    "    awk -F '\\t' '$3 == \"gene\" {print $9}' | \\\n",
    "    awk -F ';' '{print $1,$2,$3}' | \\\n",
    "    head -n 10"
   ]
  },
  {
   "cell_type": "markdown",
   "metadata": {},
   "source": [
    "### Formatting string results"
   ]
  },
  {
   "cell_type": "markdown",
   "metadata": {},
   "source": [
    "We can also format the returned results from an awk command to make the results prettier or easier to parse by the next command in a pipe. We can do this using the OFS (output field separator) argument. Below we output the result of the first awk command as semicolon separated values, and then parse the next string on semicolons.\n",
    "Read the comment lines above each line of code below to follow along with what it is doing. Try modifying part of the code to see how it changes the output. Remember you can look back at [this cell](#Format-of-the-GFF-file) to see what the GFF file looks like that we are parsing. "
   ]
  },
  {
   "cell_type": "code",
   "execution_count": 24,
   "metadata": {},
   "outputs": [
    {
     "name": "stdout",
     "output_type": "stream",
     "text": [
      "1807\t2169\tName=PAU8\n",
      "2480\t2707\tName=YAL067W-A\n",
      "7235\t9016\tName=SEO1\n",
      "11565\t11951\tName=YAL065C\n",
      "12046\t12426\tName=YAL064W-B\n",
      "13363\t13743\tName=TDA8\n",
      "21566\t21850\tName=YAL064W\n",
      "22395\t22685\tName=YAL063C-A\n",
      "24000\t27968\tName=FLO9\n",
      "31567\t32940\tName=GDH3\n"
     ]
    }
   ],
   "source": [
    "%%bash\n",
    "\n",
    "# decompress and stream gff file and pipe to next command\n",
    "zcat genomes/yeast.gff.gz | \\\n",
    "    \n",
    "    # split on tab; if field 3 is gene then return (start;stop;attributes)\n",
    "    awk -F '\\t' '{OFS=\";\"}  $3 == \"gene\" {print $4,$5,$9} ' | \\\n",
    "    \n",
    "    # split on semicolon; get attributes 1 2 5 return as \\t separated\n",
    "    awk -F ';'  '{OFS=\"\\t\"} {print $1,$2,$5}' | \\\n",
    "    \n",
    "    # show only first 10 results\n",
    "    head -n 10"
   ]
  },
  {
   "cell_type": "markdown",
   "metadata": {},
   "source": [
    "### Get the seqid, start, and end positions of all telomeres\n",
    "\n",
    "How many telomeres do you expect to find on each chromosome, and where should they be located? Use this information to make sure your results make sense for the exercise below.  Note: not all genomes are likely to have telomeres accurately assembled, since these regions are often highly repetitive. In smaller genomes like Yeast they are easier to assemble. "
   ]
  },
  {
   "cell_type": "markdown",
   "metadata": {},
   "source": [
    "<div class=\"alert alert-success\">\n",
    "    <b>Action:</b> Use any of the tools we have discussed so far. Return a tab-delimited table with the positions of all of the telomeres in the Yeast genome. Each line should have the following information: (seqid) (feature type) (start) (stop). Write your code in the cell block below. \n",
    "</div>"
   ]
  },
  {
   "cell_type": "code",
   "execution_count": 25,
   "metadata": {},
   "outputs": [
    {
     "name": "stdout",
     "output_type": "stream",
     "text": [
      "NC_001133.9\ttelomere\t1\t801\n",
      "NC_001133.9\ttelomere\t229411\t230218\n",
      "NC_001134.8\ttelomere\t1\t6608\n",
      "NC_001134.8\ttelomere\t812379\t813184\n",
      "NC_001135.5\ttelomere\t1\t1098\n",
      "NC_001135.5\ttelomere\t315783\t316620\n",
      "NC_001136.10\ttelomere\t1\t904\n",
      "NC_001136.10\ttelomere\t1524625\t1531933\n",
      "NC_001137.3\ttelomere\t1\t6473\n",
      "NC_001137.3\ttelomere\t569599\t576874\n",
      "NC_001138.5\ttelomere\t1\t5530\n",
      "NC_001138.5\ttelomere\t269731\t270161\n",
      "NC_001139.9\ttelomere\t1\t781\n",
      "NC_001139.9\ttelomere\t1083635\t1090940\n",
      "NC_001140.6\ttelomere\t1\t5505\n",
      "NC_001140.6\ttelomere\t556105\t562643\n",
      "NC_001141.2\ttelomere\t1\t7784\n",
      "NC_001141.2\ttelomere\t439068\t439888\n",
      "NC_001142.9\ttelomere\t1\t7767\n",
      "NC_001142.9\ttelomere\t744902\t745751\n",
      "NC_001143.9\ttelomere\t1\t807\n",
      "NC_001143.9\ttelomere\t665904\t666816\n",
      "NC_001144.5\ttelomere\t1\t12085\n",
      "NC_001144.5\ttelomere\t1064281\t1078177\n",
      "NC_001145.3\ttelomere\t1\t6344\n",
      "NC_001145.3\ttelomere\t923541\t924431\n",
      "NC_001146.8\ttelomere\t1\t7428\n",
      "NC_001146.8\ttelomere\t783278\t784333\n",
      "NC_001147.6\ttelomere\t1\t847\n",
      "NC_001147.6\ttelomere\t1083922\t1091291\n",
      "NC_001148.4\ttelomere\t1\t7223\n",
      "NC_001148.4\ttelomere\t942396\t948010\n"
     ]
    }
   ],
   "source": [
    "%%bash\n",
    "\n",
    "# read file | not lines start w/ # | only fields 1,3,4,5 | only w/ 'telomere' \n",
    "zcat genomes/yeast.gff.gz | grep -v \"^#\" | cut -f 1,3-5 | grep -w 'telomere' "
   ]
  },
  {
   "cell_type": "markdown",
   "metadata": {},
   "source": [
    "<div class=\"alert alert-success\">\n",
    "    <b>Action:</b> \n",
    "    When completed save and download this notebook in HTML format and submit it along with the other notebooks for this unit to courseworks.  \n",
    "</div>\n"
   ]
  }
 ],
 "metadata": {
  "kernelspec": {
   "display_name": "Python 3",
   "language": "python",
   "name": "python3"
  },
  "language_info": {
   "codemirror_mode": {
    "name": "ipython",
    "version": 3
   },
   "file_extension": ".py",
   "mimetype": "text/x-python",
   "name": "python",
   "nbconvert_exporter": "python",
   "pygments_lexer": "ipython3",
   "version": "3.6.8"
  }
 },
 "nbformat": 4,
 "nbformat_minor": 2
}
