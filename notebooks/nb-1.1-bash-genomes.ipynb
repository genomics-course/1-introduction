{
 "cells": [
  {
   "cell_type": "markdown",
   "metadata": {},
   "source": [
    "# Notebook 1.1: Introduction \n",
    "\n",
    "### Genes, Genomes, and DNA\n",
    "\n",
    "For this notebook you should complete the reading [Genes, Genomes, and DNA, by Clark](https://www.clinicalkey.com/#!/content/book/3-s2.0-B9780128132883000045).\n",
    "\n",
    "In addition, I recommend that you complete the 4 modules listed below in the **Linux Command Line Tutorial** on [Codio](https://codio.com), which you can find by clicking on the *Courses* tab on the left side, and then the *Recommended* tab on the top bar. If you feel you already have a good background in using a command-line terminal then you can skip those modules, and start directly on the exercise below.  \n",
    "\n",
    "- *Introduction*\n",
    "- *File System Commands*\n",
    "- *The File System*\n",
    "- *Searching Files and File Contents*\n"
   ]
  },
  {
   "cell_type": "markdown",
   "metadata": {},
   "source": [
    "### Learning objectives\n",
    "This notebook is meant to accompany your reading (above) and to demonstrate several of the skills you will learn in the Linux Command Line Tutorial, but applied to genomic data. By the end of this exercise you should: \n",
    "\n",
    "1. Recognize that the genome can be described using text data.  \n",
    "2. Be familiar with the fasta and GFF/GTF genomic file formats.   \n",
    "3. Know how to execture bash code in jupyter notebooks.  \n",
    "4. Recognize there are many useful unix tools for manipulating text/genomic data."
   ]
  },
  {
   "cell_type": "markdown",
   "metadata": {},
   "source": [
    "<div class=\"alert alert-success\">\n",
    "    Reminder: <b>Questions</b> that require you to respond using Markdown (text) or <b>Actions</b> that require you to edit and execute code to produce new results will be highlighted on a green background. \n",
    "</div>"
   ]
  },
  {
   "cell_type": "markdown",
   "metadata": {},
   "source": [
    "### Reference genomes\n",
    "\n",
    "In Table 4.01 of your reading (linked above) there is a list of genome sizes for several organisms which have a sequenced reference genome. *What does it mean to have assembled a reference genome?*\n",
    "\n",
    "Does it mean that every DNA base-pair in the genome was sequenced once? Or that we know where every gene is located in that genome? The short answer is *No*; even the most complete genome assemblies usually have some amount of missing information. For small genomes, like viruses, we can easily sequence every base, however, there remains variation among individuals and populations that is not represented in a single *reference genome*. For larger genomes, like humans, some parts of the genome are difficult to assemble because they are highly repetitive, and these are often missing or error-prone. \n",
    "\n",
    "Many genome assemblies are published only in *draft* form, meaning that they are still a work in progress. The best genomes are assembled into complete chromosomes, whereas many others are still represented as thousands of assembled fragments which we don't yet know how to piece together correctly. The evolution of new technologies for improving genome assemblies will be a major topic of this class. But for now, let's start by looking at a few small complete genomes. "
   ]
  },
  {
   "cell_type": "markdown",
   "metadata": {},
   "source": [
    "### DNA as text\n",
    "To look at genomes means to look at **text files**. That's right, genomic data can be represented as simple text, using the letters <span style=\"color:red;\">A</span>, <span style=\"color:green;\">C</span>, <span style=\"color:blue;\">G</span>, and <span style=\"color:darkorange;\">T</span> to refer to the nucleotides (molecules) that make up DNA. Pretty convenient, huh? \n",
    "\n",
    "Because genomic data files are typically large, analyzing or even just looking at genomic data  requires learning to use efficient software tools for working with large text files. It may surprise you to learn that many of the best tools for this are actually the basic command line tools developed for unix based computers. Computer file systems are also written in text, and so many of the most common and basic programming tools are designed specifically to be able to very efficiently read, edit, or analyze text. "
   ]
  },
  {
   "cell_type": "markdown",
   "metadata": {},
   "source": [
    "### Jupyter notebooks\n",
    "Jupyter notebooks are a powerful tool for combining code and written text together to create documents for sharing your work. In science we refer to this as *reproducibility* -- creating documents that others can use to reproduce our work entirely. In this course, we will use notebooks to share code with you for completing assignments; you can run the code, learn from it, and even edit the code or text. Upon completing each notebook, you will have entered in new values and produced new results, which you can then save as your completed assignment for us to grade. If you need a refresher on how to use jupyter notebooks look back at notebook 1.0."
   ]
  },
  {
   "cell_type": "markdown",
   "metadata": {},
   "source": [
    "### Bash and Python \n",
    "\n",
    "The primary coding language used in Jupyter notebooks is Python. However, other languages can be used as well. In this class we will primarily use just two languages: **Python** and **Bash** (focusing first on bash, then Python, but we will continue to use both throughout the course). \n",
    "\n",
    "[Bash](https://en.wikipedia.org/wiki/Bash_(Unix_shell)) is a language for interacting with a **terminal** (it is a command line language). We will primarily use bash to run *executable computer programs* in a terminal. Those program themselves may be written in a variety of computer languages, often C, fortran, or even Python. There are several languages similar to bash for running commands in a terminal, of which bash is the most commonly used. "
   ]
  },
  {
   "cell_type": "markdown",
   "metadata": {},
   "source": [
    "### Running bash in jupyter\n",
    "\n",
    "In codio you can open a terminal at any time and execute bash code directly in it if you wish. However, for the purpose of your assignments we will have you instead execute bash code inside of jupyter notebooks. Again, this is for the sake of reproducibility, notebooks keep a record of the code that you execute, so it is easy to share, and for our purposes, to hand in as an assignment. \n",
    "\n",
    "To say that we are going to \"run a command line program using bash inside of a jupyter notebook\" is describing a [multi-layered](https://tenor.com/view/shrek-onions-gif-5703242) process: jupyter actually uses Python to connect to a temporary bash terminal, which then runs the command line program, captures the output, and returns it to jupyter, which displays the output in your notebook. This sounds complicated, but it's all happening behind the scenes. To run bash code in the notebook all you have to do is append  `%%bash` to the top of a code cell. "
   ]
  },
  {
   "cell_type": "markdown",
   "metadata": {},
   "source": [
    "## Unix command line tools\n",
    "\n",
    "Most of the tools we are going to use in this tutorial will be available on any \\*nix based computer system (e,g., linux, MacOSX), although which come installed by default may vary slightly (e.g., replace `zcat` on linux with `gunzip -c` on a Mac). In this notebook we will explore the following unix programs. There are many more that we do not mention here, and there are many tutorials available on-line to learn more about them. \n",
    "\n",
    "1. `pwd`: print working directory  \n",
    "2. `mkdir`: make a new directory  \n",
    "3. `ls`: list contents in a directory  \n",
    "4. `wget`: download from a URL (download or sub for `curl` on Mac)   \n",
    "5. `head`: print first N lines of a file  \n",
    "6. `cat/zcat`: stream/read through a file line by line  \n",
    "7. `grep`: select lines from a file based on matching characters  \n",
    "8. `cut`: select elements from text based on a delimiter/separator  \n",
    "9. `wc`: count words, lines, or bytes in a file  \n",
    "10. `awk`: match a pattern and perform action on conditional clause  "
   ]
  },
  {
   "cell_type": "code",
   "execution_count": null,
   "metadata": {},
   "outputs": [],
   "source": [
    "%%bash\n",
    "# pwd: 'print working directory'\n",
    "pwd"
   ]
  },
  {
   "cell_type": "markdown",
   "metadata": {},
   "source": [
    "### Create a new directory to store downloaded genome files\n",
    "Here we will use the `mkdir` command to create a new directory (we'll add the `-p` option so that it doesn't matter if the directory already exists.) In this code block we also use the `ls` command with the option `-l` to show the contents of our current directory as a list. We can run as many bash commands as we want on separate lines of the same code block. However, when creating notebooks of your own it is generally good practice to break up code into atomized steps. From the output of `ls` below you can see that the new directory we created (genomes/) is now located inside of our current directory alongside this notebook and other files."
   ]
  },
  {
   "cell_type": "code",
   "execution_count": null,
   "metadata": {},
   "outputs": [],
   "source": [
    "%%bash\n",
    "# make new directory called genomes in our current directory\n",
    "mkdir -p ./genomes/\n",
    "\n",
    "# show everything in my current directory as a list\n",
    "ls -l"
   ]
  },
  {
   "cell_type": "markdown",
   "metadata": {},
   "source": [
    "### Where do we get genomic data?\n",
    "\n",
    "There are several standardized databases for storing genomes and genomic data. We will likely use [NCBI](https://www.ncbi.nlm.nih.gov/home/about/) the most, since it is hosted by the US NIH. We will cover genomic databases in more depth next week. \n",
    "\n",
    "For now, click [this link](https://bit.ly/2EA1iOS) to view an NCBI FTP site where the reference Human genome is hosted. As you can see there are many files containing different aspects of genome information. Some describe how the genome was assembled, others how genes there are and where they are located. The assembled **genome sequence** itself is in a **fasta file**. This is the file we are interested in right now. Do not click to download, we will instead use a command line program to download files. This is generally good form, since you'll leave a record in your notebook of exactly where you got your data from (i.e., it is good for reproducibility)."
   ]
  },
  {
   "cell_type": "markdown",
   "metadata": {},
   "source": [
    "### Download a few (small) reference genome fasta files from public URLs\n",
    "We will use the unix command `wget` to retrieve data from a URL, with the option `-O` (capital o, not a zero) to designate the location where we want the file to be saved. Let's also add the option `-q` (quiet) to repress progress messages from being printed during the downloads (unless your download fails, then remove the `-q` to see the error message). This command will take about a minute to run depending on your internet speed."
   ]
  },
  {
   "cell_type": "code",
   "execution_count": null,
   "metadata": {},
   "outputs": [],
   "source": [
    "%%bash\n",
    "# to make this code more readable we will save the URLs as variables\n",
    "url1=\"ftp://ftp.ncbi.nlm.nih.gov/genomes/refseq/viral/Pandoravirus_quercus/latest_assembly_versions/GCF_003233895.1_ASM323389v1/GCF_003233895.1_ASM323389v1_genomic.fna.gz\"\n",
    "url2=\"ftp://ftp.ncbi.nlm.nih.gov/genomes/refseq/fungi/Saccharomyces_cerevisiae/reference/GCF_000146045.2_R64/GCF_000146045.2_R64_genomic.fna.gz\"\n",
    "url3=\"ftp://ftp.ncbi.nlm.nih.gov/genomes/refseq/vertebrate_mammalian/Homo_sapiens/reference/GCF_000001405.38_GRCh38.p12/GCF_000001405.38_GRCh38.p12_genomic.fna.gz\"\n",
    "\n",
    "# now we can run the wget commands by referring to these variables\n",
    "wget $url1 -q -O ./genomes/Pandoravirus.fna.gz\n",
    "wget $url2 -q -O ./genomes/Saccharomyces.fna.gz\n",
    "wget $url3 -q -O ./genomes/HumanGRCh38.fna.gz"
   ]
  },
  {
   "cell_type": "markdown",
   "metadata": {},
   "source": [
    "### The format of the genome files\n",
    "We just downloaded three `fasta files`. Such files will usually have a suffix like `.fna` or `.fasta`. You can see that all of our files have the ending `.fna.gz`, meaning that they are in fasta format, but they are also *gzip compressed* (.gz). Compression is used to store large files more efficiently. When files are compressed we sometimes need to use additional tools to decompress them before reading the contents. Many genomic software tools are designed to work with compressed files so that we can just enter the compressed file into the program directly. Here we will leave the files compressed to save disk space (e.g. the compressed Human genome is almost 1Gb) and simply decompress their contents on the fly as we read/stream it.    "
   ]
  },
  {
   "cell_type": "code",
   "execution_count": null,
   "metadata": {},
   "outputs": [],
   "source": [
    "%%bash\n",
    "# show the contents of the genomes directory\n",
    "ls -lh genomes"
   ]
  },
  {
   "cell_type": "markdown",
   "metadata": {},
   "source": [
    "### Look at the first couple lines of the compressed file\n",
    "A convenient tool for looking at just a few lines from a large file is the command `head`. We can pass this an additional argument to tell it how many lines to show us from the top of the file. Let's start by looking at the first 2 lines of one of the compressed genome files...\n",
    "\n",
    "It looks like gibberish, right? Well, that's what compressed files look like if you don't decompress them."
   ]
  },
  {
   "cell_type": "code",
   "execution_count": null,
   "metadata": {},
   "outputs": [],
   "source": [
    "%%bash\n",
    "# read a few lines of the compressed virus genome\n",
    "head -n 2 genomes/Pandoravirus.fna.gz"
   ]
  },
  {
   "cell_type": "markdown",
   "metadata": {},
   "source": [
    "### `cat / zcat` is a command for streaming the entire contents of a file\n",
    "\n",
    "\n",
    "Here we are using two tricks: first, the command `zcat` can be used as a replacement for `cat`, the normal command we would use to stream a file to stdout (the output stream). The second trick here is that we are using a `pipe`. As you learned in your linux tutorial, pipes are used to send the output of one program directly into the input of another. Here we pipe the streamed output of `zcat` directly into the program `head`. This way we do not read the entire file into memory at once, which would be too much text for a jupyter notebook to display comfortably, and instead capture only the first N lines to print to stdout. As you can see, now that we are using the `zcat` command to decompress the stream of text it looks like sensible DNA data. "
   ]
  },
  {
   "cell_type": "code",
   "execution_count": null,
   "metadata": {},
   "outputs": [],
   "source": [
    "%%bash\n",
    "# run zcat and PIPE the output into head\n",
    "zcat genomes/Pandoravirus.fna.gz | head -n 10"
   ]
  },
  {
   "cell_type": "markdown",
   "metadata": {},
   "source": [
    "<div class=\"alert alert-success\">\n",
    "    <b>Action:</b> In the code cell below write and run a bash command like the one above to stream the contents of a genome file using zcat and pipe it into the head command. In your code block, select the Yeast genome file (Saccharomyces) instead of Pandoravirus, and change the -n option of head to print 20 lines instead of 10.  \n",
    "</div>"
   ]
  },
  {
   "cell_type": "code",
   "execution_count": null,
   "metadata": {},
   "outputs": [],
   "source": []
  },
  {
   "cell_type": "markdown",
   "metadata": {},
   "source": [
    "### The fasta format\n",
    "The fasta format is a simple file format used to list contiguous DNA sequences with identifiers. The sequences in a fasta file could be genes, or non-coding regions, or transposable elements, etc., or it could be all of those things ordered as a large contiguous sequence (<span style='color:red;'>a contig</span>), or a series of contigs (<span style='color:red;'>a scaffold</span>), or even as a complete chromosome, or multiple chromosomes. A small example is below:\n",
    "\n",
    "```\n",
    "> sequence 1 name and other notes about sequence 1\n",
    "AAAAAAAAAAAAAAAAAAATTTTTTTTCCCCCCCCCCCTTTTTTTTTTTTTGGGGGGGGGGG\n",
    "AAAAAAAAAAAAAAAAAAATTTTTTTTCCCCCCCCCCCTTTTTTTTTTTTTGGGGGGGGGGG\n",
    "AAAAAAAAAAAAAAAAAAATTTTTTTTCCCCCCCCCCCTTTTTTTTTTTTTGGGGGGGGGGG\n",
    "AAAAAAAAAAAAAAAAAAATTTTTTTTCCCCCCCCCCCTTTTTTTTTTTTTGGGGGGGGGGG\n",
    "AAAAAAAAAAAAAA\n",
    "> sequence 2 name and other notes about sequence 2\n",
    "AAAAAAAAAAAAAAAAAAATTTTTTTTCCCCCCCCCCCTTTTTTTTTTTTTGGGGGGGGGGG\n",
    "AAAAAAAAAAAAAAAAAAATTTTTTTTCCCCCCCCCCCTTTTTTTTTTTTTGGGGGGGGGGG\n",
    "AAAAAAAAAAAAAAAAAAATTTTTTTTCCCCCCCCCCCTTTTTTTTTTTTTGGGGGGGGGGG\n",
    "AAAAAAAAAAAAAA\n",
    "```\n",
    "\n",
    " In the Pandoravirus genome file we can see that the name of the first sequence in the file is labeled \"... complete genome\", this is becuase the entire genome of this virus is contained on a single chromosome. "
   ]
  },
  {
   "cell_type": "markdown",
   "metadata": {},
   "source": [
    "### Searching text (grep)\n",
    "The sequence names in a fasta file always begin with the character `>`. When a character is used to separate elements in a file we refer to it as a **delimiter**. The `>` character in a fasta file delimits where one sequence stops and the next one begins. \n",
    "\n",
    "Knowing this, we can easily extract the names of all of the sequences in a fasta file by using the command line tool [`grep`](https://www.tutorialspoint.com/unix_commands/grep.htm) to extract lines that match a pattern we are searching for. This tool is explained in the Linux Command Line Tutorial, and you can find a quick grep tutorial [here](https://www.tutorialspoint.com/unix_commands/grep.htm) and in many other places online. Let's add an additional pipe to our command from above to now extract the sequence names in the Yeast genome file as we stream though it. As you can see, the only lines of the file that are returned are those which matched the `grep` search pattern (contained a `>` character). "
   ]
  },
  {
   "cell_type": "code",
   "execution_count": null,
   "metadata": {
    "scrolled": true
   },
   "outputs": [],
   "source": [
    "%%bash\n",
    "# pipe zcat output to grep\n",
    "zcat genomes/Saccharomyces.fna.gz | grep \">\""
   ]
  },
  {
   "cell_type": "markdown",
   "metadata": {},
   "source": [
    "### Sequence names/labels\n",
    "\n",
    "We can see from above that all of the sequences in the Yeast genome are complete chromosomes. This is not always the case, though. Below we run a `grep` search to get all lines of the Human genome file that contain \"chromosome 1\" in their names. As you can see, there are many scaffolds that match our search term, meaning there are many scaffolds in this assembly that are thought to be located *somewhere* on chromosome 1. "
   ]
  },
  {
   "cell_type": "code",
   "execution_count": null,
   "metadata": {},
   "outputs": [],
   "source": [
    "%%bash\n",
    "url=\"ftp://ftp.ensembl.org/pub/release-94/fasta/homo_sapiens/dna/Homo_sapiens.GRCh38.dna.primary_assembly.fa.gz\"\n",
    "wget $url -q -O genomes/Homo_sapiens.GRCh38.fna.gz"
   ]
  },
  {
   "cell_type": "code",
   "execution_count": null,
   "metadata": {},
   "outputs": [],
   "source": [
    "%%bash\n",
    "zcat genomes/HumanGRCh38.fna.gz | grep \"chromosome 1 \" | head -n 10"
   ]
  },
  {
   "cell_type": "code",
   "execution_count": null,
   "metadata": {},
   "outputs": [],
   "source": [
    "%%bash\n",
    "zcat genomes/HumanGRCh38.fna.gz | grep \"chromosome 1 \""
   ]
  },
  {
   "cell_type": "markdown",
   "metadata": {},
   "source": [
    "<div class=\"alert alert-success\">\n",
    "    <b>Question:</b> \n",
    "    Why do you think the human genome assembly contains many scaffolds with Chromosome 1 in the name whereas the Yeast genome has only one scaffold labeled chromosome I? Why does it take longer to search the Human genome? Answer in the markdown cell below.  \n",
    "</div>"
   ]
  },
  {
   "cell_type": "markdown",
   "metadata": {},
   "source": [
    "### Response: "
   ]
  },
  {
   "cell_type": "markdown",
   "metadata": {},
   "source": [
    "----------------------------------"
   ]
  },
  {
   "cell_type": "markdown",
   "metadata": {},
   "source": [
    "### Genome structure: mitochondrial genomes\n",
    "We can use `grep` to match lines of a file in order to answer basic questions about its contents. For example, we can search for the term \"mitochond\" in each genome to see if there is a sequence that is labeled as being from a mitochondrian. "
   ]
  },
  {
   "cell_type": "code",
   "execution_count": null,
   "metadata": {},
   "outputs": [],
   "source": [
    "%%bash\n",
    "zcat genomes/Saccharomyces.fna.gz | grep mitochond\n",
    "zcat genomes/HumanGRCh38.fna.gz | grep mitochond\n",
    "zcat genomes/Pandoravirus.fna.gz | grep mitochond"
   ]
  },
  {
   "cell_type": "markdown",
   "metadata": {},
   "source": [
    "<div class=\"alert alert-success\">\n",
    "    <b>Question:</b> Which one of the genomes does not have a chromosome with \"mitochond\" in its name (as we would expect if it has a mitochondrial genome)? Why would this genome not have a mitochondrian? Answer in the Markdown cell below. \n",
    "</div>"
   ]
  },
  {
   "cell_type": "markdown",
   "metadata": {},
   "source": [
    "### Response: \n",
    "\n"
   ]
  },
  {
   "cell_type": "markdown",
   "metadata": {},
   "source": [
    "-----------------------------"
   ]
  },
  {
   "cell_type": "markdown",
   "metadata": {},
   "source": [
    "### How large is each genome?\n",
    "Returning to Table 4.01 of your reading, you might ask, how do we know how large the genomes of each of these species is? We can estimate genome sizes from several types of measurements. The most common way is to use [flow cytometry](https://en.wikipedia.org/wiki/Flow_cytometry) to measure estimate size from the mass of DNA in a cell. In addition, though, to the extent we believe that our genome is reasonably accurately assembled (a topic we will discuss later), we can also measure the genome size by simply asking how many characters are in the fasta file of the assembled genome. \n",
    "\n",
    "For this, we can use the program [`wc`](https://www.howtoforge.com/linux-wc-command-explained-for-beginners-6-examples/), which stands for word count. We will also pass the option `-m` to return the result as a count of characters (as opposed to lines or bytes or the other things `wc` can count). Remember, we still need to decompress the file when running this command, since as we saw above the contents of compressed files look very different from the decompressed version. Below we use `zcat` to pipe the stream of text into `wc`. "
   ]
  },
  {
   "cell_type": "code",
   "execution_count": null,
   "metadata": {},
   "outputs": [],
   "source": [
    "%%bash\n",
    "# count characters in each file\n",
    "zcat genomes/Pandoravirus.fna.gz | wc -m \n",
    "zcat genomes/Saccharomyces.fna.gz | wc -m\n",
    "zcat genomes/HumanGRCh38.fna.gz | wc -m"
   ]
  },
  {
   "cell_type": "code",
   "execution_count": null,
   "metadata": {},
   "outputs": [],
   "source": [
    "%%bash\n",
    "# more accurately, we should exclude seq name lines using grep (line starting with '>')\n",
    "zcat genomes/Pandoravirus.fna.gz | grep -v '^>' | wc -m \n",
    "zcat genomes/Saccharomyces.fna.gz | grep -v '^>' | wc -m\n",
    "zcat genomes/HumanGRCh38.fna.gz | grep -v '^>' | wc -m"
   ]
  },
  {
   "cell_type": "markdown",
   "metadata": {},
   "source": [
    "<div class=\"alert alert-success\">\n",
    "    <b>Question:</b> Do the sizes of these files match pretty closely to the estimated genome sizes in Table 4.01? Why do you think the genome assembly file might differ from the total estimated genome size? \n",
    "</div>\n",
    "\n"
   ]
  },
  {
   "cell_type": "markdown",
   "metadata": {},
   "source": [
    "### Response: \n",
    "\n"
   ]
  },
  {
   "cell_type": "markdown",
   "metadata": {},
   "source": [
    "-----------------------------------"
   ]
  },
  {
   "cell_type": "markdown",
   "metadata": {},
   "source": [
    "### Genome annotations: Features (exons, introns, repeats, etc.)\n",
    "\n",
    "Once a genome has been assembled the next task is typically to try to describe the contents of the genome in terms of the function of its different parts. This is termed **genome annotatation**. Where are the genes, how many are there, and within each how many exons or introns are there? Where are repetitive elements, and how much of the genome do they compose? How such features are identified will be the subject of next week's assignment, but assuming they have been identified correctly, we will look now at how these results are saved and how we can access that information."
   ]
  },
  {
   "cell_type": "markdown",
   "metadata": {},
   "source": [
    "### General feature format (GFF/GTF)\n",
    "\n",
    "There are several formats for storing identified genome features called [GFF or GTF or GFF3 files](https://useast.ensembl.org/info/website/upload/gff3.html). In this tabular formatted file feature names are mapped to coordinates of the genome in terms of the scaffold or chromosome names and their start:stop positions. Features are named according to a specific naming system (ontology) that we will discuss more in the future. But for now, take note that it is a hierarchical system (subunits nested within higher level units), as represented by the figure below. All of the elements below gene1 are parts that make up the unit we are calling gene 1, which includes messenger RNAs, exons, and coding sequences (exons - introns - UTRs).  \n",
    "\n",
    "```\n",
    "    gene1            ================================    ID=gene1  \n",
    "    mRNA1            ================================    ID=mRNA1;Parent=gene1  \n",
    "    five_prime_UTR   ==                                  Parent=mRNA1  \n",
    "    CDS1               ==....=====...........==          Parent=mRNA1 (3 rows)  \n",
    "    three_prime_UTR                            ======    Parent=mRNA1\n",
    "    mRNA2            ================================    ID=mRNA2;Parent=gene1\n",
    "    exon             ====                                Parent=mRNA2\n",
    "    CDS2               ==....................==          Parent=mRNA2 (2 rows)\n",
    "    exon                                     ========    Parent=mRNA2\n",
    "```"
   ]
  },
  {
   "cell_type": "markdown",
   "metadata": {},
   "source": [
    "### Download the GFF file for the Yeast genome assembly. \n",
    "As before we will use the `wget` command to download the file which is available from the same location as the fasta file. "
   ]
  },
  {
   "cell_type": "code",
   "execution_count": null,
   "metadata": {},
   "outputs": [],
   "source": [
    "%%bash\n",
    "# download GFF file for Yeast assembly from URL\n",
    "url=\"ftp://ftp.ncbi.nlm.nih.gov/genomes/refseq/fungi/Saccharomyces_cerevisiae/reference/GCF_000146045.2_R64/GCF_000146045.2_R64_genomic.gff.gz\"\n",
    "wget $url -q -O genomes/Saccharomyces.gff.gz"
   ]
  },
  {
   "cell_type": "markdown",
   "metadata": {},
   "source": [
    "### Format of the GFF file\n",
    "\n",
    "Let's take a look at the file. It is tab-delimited, and contains several columns with information about where genomic regions start and stop, and what information is known about those regions. The `fields` listed on each line of the GFF file are as follows:\n",
    "\n",
    "`seqid` - name of the chromosome or scaffold;  \n",
    "`source` - name of the program, database, or project that generated this feature;  \n",
    "`type` - type of feature. Must be a term or accession from the SOFA sequence ontology;  \n",
    "`start` - Start position of the feature, with sequence numbering starting at 1;  \n",
    "`end` - End position of the feature, with sequence numbering starting at 1;  \n",
    "`score` - A floating point value;  \n",
    "`strand` - defined as + (forward) or - (reverse);  \n",
    "`phase` - One of '0', '1' or '2': which base in the first base of a codon;  \n",
    "`attributes` - A semicolon-separated list of tag-value pairs of additional info;\n",
    "\n",
    "\n",
    "Let's look at the first few lines of the file using `head`. The first few lines start with `#`, these are comment lines that make up the header of the file. THis is for storing *metadata*; information about this file and how it was made. The contents of the "
   ]
  },
  {
   "cell_type": "code",
   "execution_count": null,
   "metadata": {},
   "outputs": [],
   "source": [
    "%%bash\n",
    "# look at a few lines of the GFF\n",
    "zcat genomes/Saccharomyces.gff.gz | head -n 15"
   ]
  },
  {
   "cell_type": "markdown",
   "metadata": {},
   "source": [
    "### Selecting fields from a delimited file\n",
    "As you can see it is kind of hard to read the GFF file using a terminal, especially without turning on line-wrapping for long-lines (which unfortunately is not easy to do within a jupyter notebook). The basic unix tools are great for quickly searching for elements in the GFF file, because again, these files can sometimes be very large. The Yeast genome is considered quite small, and its GFF file is still more than 26K lines long, so it would still be hard to make sense of if you tried to interact with it using excel. Let's explore more unix tools for searching parts of the file and displaying them nicely in the terminal. "
   ]
  },
  {
   "cell_type": "markdown",
   "metadata": {},
   "source": [
    "### Using `cut`\n",
    "The program [`cut`](https://en.wikipedia.org/wiki/Cut_(Unix)) is useful for selecting delimited text (text with a separating character). Below we will combine `cut` with `zcat` and `grep` to select elements from the GFF file. Let's start by selecting just the first few columns so that the results are a bit more readable. We will also use grep reverse matching (`-v`) to exclude the first few lines of metadata. "
   ]
  },
  {
   "cell_type": "code",
   "execution_count": null,
   "metadata": {},
   "outputs": [],
   "source": [
    "%%bash\n",
    "# read file | get lines not starting with # | get fields 1-5 | show first 10 lines\n",
    "zcat genomes/Saccharomyces.gff.gz | grep -v \"^#\" | cut -f 1-5 | head -n 10"
   ]
  },
  {
   "cell_type": "markdown",
   "metadata": {},
   "source": [
    "### Nested features\n",
    "\n",
    "As you can see from the few features in the GFF file above, the first element is defined as a `region` and this spans from position 1-230219. The next feature is defined as a telomere which stretches from positions 1-801. How can both of these features start at position 1? It is because the second is nested within the first. It is a telomere located in the first region. In this case, region 1 is referring to the first chromosome. Let's confirm this by looking at all of the `region` elements in the file. \n"
   ]
  },
  {
   "cell_type": "code",
   "execution_count": null,
   "metadata": {},
   "outputs": [],
   "source": [
    "%%bash\n",
    "# read file | exclude lines starting with # | get fields 1-5 | keep lines with word 'region'\n",
    "zcat genomes/Saccharomyces.gff.gz | grep -v \"^#\" | cut -f 1-5 | grep -w 'region' "
   ]
  },
  {
   "cell_type": "markdown",
   "metadata": {},
   "source": [
    "Something to take note of here: each region here has a different `seqid` (the first column in the data). This is because the `seqid` refers to chromosomes/scaffolds and each region here is a chromosome. All of the other elements nested inside of the regions have the same `seqid`, but different start and stop positions. We can see this by running the same command as above, but adding the `-A` argument to `grep` so that it also prints 1 additional line after each match. Here you can see that the telomere that starts each chromosome has the same `seqid` as the chromosome, and stretches from 1 to some length."
   ]
  },
  {
   "cell_type": "code",
   "execution_count": null,
   "metadata": {
    "scrolled": false
   },
   "outputs": [],
   "source": [
    "%%bash\n",
    "# read file | not lines start w/ # | only fields 1-5 | only w/ 'region' & print next line\n",
    "zcat genomes/Saccharomyces.gff.gz | grep -v \"^#\" | cut -f 1-5 | grep -w 'region' -A1 "
   ]
  },
  {
   "cell_type": "markdown",
   "metadata": {},
   "source": [
    "### Counting genes in the GFF file\n",
    "\n",
    "One type of feature listed in the GFF file are `genes`. As we said earlier, this term is used to describe a particular type of feature according to a set of definitions (an ontology) for how to define genomic elements (more on this next week). Let's search for how many genes are in the Yeast GFF file by grepping the word \"gene\". Take note, we are not searching the whole file for just the term gene, because it actually appears quite commonly (for example, in the words genetic or geneID). Instead, we first pull out the column of features so that we are only searching this, and then search for word matches (`-w` option) with grep. Finally, we can use the `-c` option of grep to count the number of matching lines rather than return them. "
   ]
  },
  {
   "cell_type": "code",
   "execution_count": null,
   "metadata": {},
   "outputs": [],
   "source": [
    "%%bash\n",
    "# read file | get 3rd field | grep -w = match to word 'gene', -c count number of times\n",
    "zcat genomes/Saccharomyces.gff.gz | cut -f 3 | grep -wc \"gene\" "
   ]
  },
  {
   "cell_type": "markdown",
   "metadata": {},
   "source": [
    "<div class=\"alert alert-success\">\n",
    "    <b>Question:</b> Does the number of genes match closely to the number shown in Table 4.01? Why do you think Yeast has fewer genes than Humans? Describe the C-value paradox. What information from Table 4.01 supports the C-value paradox? Answer in the markdown cell below.     \n",
    "</div>\n",
    "\n"
   ]
  },
  {
   "cell_type": "markdown",
   "metadata": {},
   "source": [
    "### Response: "
   ]
  },
  {
   "cell_type": "markdown",
   "metadata": {},
   "source": [
    "----------------------------"
   ]
  },
  {
   "cell_type": "markdown",
   "metadata": {},
   "source": [
    "### Pipes: from simple to complex\n",
    "\n",
    "Using pipes you can combine many unix commands to accomplish complex tasks. Although the function of each individual program may seem limited, as you learn more and more of these atomic tasks you can combine them to do just about aything with text, and often quite fast. Here we combine several commands to count the top ten features that occur most in the Yeast GFF file and order and print them. "
   ]
  },
  {
   "cell_type": "code",
   "execution_count": null,
   "metadata": {},
   "outputs": [],
   "source": [
    "%%bash\n",
    "# extend a command over multiple lines\n",
    "zcat genomes/Saccharomyces.gff.gz | grep -v '^#' | cut -sf 3 | sort | uniq -c | sort -rn | head "
   ]
  },
  {
   "cell_type": "markdown",
   "metadata": {},
   "source": [
    "#### Splitting commands over multiple lines\n",
    "Sometimes long commands can become difficult to read. You can split a command over multiple lines by ending each line with a forward slash character. This makes it easier to read. "
   ]
  },
  {
   "cell_type": "code",
   "execution_count": null,
   "metadata": {},
   "outputs": [],
   "source": [
    "%%bash\n",
    "# extend a command over multiple lines\n",
    "zcat genomes/Saccharomyces.gff.gz | \\\n",
    "    grep -v '^#' | \\\n",
    "    cut -s -f 3 | \\\n",
    "    sort | \\\n",
    "    uniq -c | \\\n",
    "    sort -rn | \\\n",
    "    head"
   ]
  },
  {
   "cell_type": "markdown",
   "metadata": {},
   "source": [
    "### Parsing attribute information from the GFF\n",
    "\n",
    "\n",
    "\n",
    "The final column of the GFF file, *the attributes*, is a bit more difficult to read and comprehend, but this is where the real details about each genetic feature are found. For example, you can find gene names, and descriptions of their functions in the attributes, as well as get ontology IDs that can be used to learn more about the type of feature. \n",
    "\n",
    "Information in the `attribute` field is one long string of text that is delimited by semicolons. So to parse it we need to split elements on this character. Below is an example using a combination of `grep` and `cut` commands like we've used above to select the first 10 genes and print their names. \n"
   ]
  },
  {
   "cell_type": "code",
   "execution_count": null,
   "metadata": {},
   "outputs": [],
   "source": [
    "%%bash\n",
    "# print the first 10 genes and the gene names\n",
    "zcat genomes/Saccharomyces.gff.gz | cut -f 9 | grep \"ID=gene\" | cut -d';' -f 1,3 | head -n 10"
   ]
  },
  {
   "cell_type": "markdown",
   "metadata": {},
   "source": [
    "### Using `awk` to match text\n",
    "\n",
    "Another great tool that can perform similar tasks to this is called [awk](https://www.ibm.com/developerworks/library/l-awk1/index.html). The basic format of an `awk` command is in the form of a string argument stating `\"x == y {do z}\"`. It is similar to cut in that it is designed to work on delimited fields of text. Below we print the attributes field (`$9`) if the type field ($3) matches 'gene'.  \n"
   ]
  },
  {
   "cell_type": "code",
   "execution_count": null,
   "metadata": {},
   "outputs": [],
   "source": [
    "%%bash\n",
    "# if field 3 is gene then return field 9\n",
    "zcat genomes/Saccharomyces.gff.gz | awk '$3 == \"gene\" {print $9}' | head -n 5"
   ]
  },
  {
   "cell_type": "markdown",
   "metadata": {},
   "source": [
    "### Awk, pipe, and repeat\n",
    "\n",
    "We can easily combine multiple `awk` calls so that we can now parse the line based on the tab delimiter, return the attributes field, and then parse that line based on the semicolon delimiter. Let's try this to see which fields are in the attributes field of genes. "
   ]
  },
  {
   "cell_type": "code",
   "execution_count": null,
   "metadata": {},
   "outputs": [],
   "source": [
    "%%bash\n",
    "# if field 3 is gene then return field 9\n",
    "zcat genomes/Saccharomyces.gff.gz | \\\n",
    "    awk -F '\\t' '$3 == \"gene\" {print $9}' | \\\n",
    "    awk -F ';'  '$6 {print $1,$2}' | \\\n",
    "    head -n 10"
   ]
  },
  {
   "cell_type": "markdown",
   "metadata": {},
   "source": [
    "### Formatting string results"
   ]
  },
  {
   "cell_type": "markdown",
   "metadata": {},
   "source": [
    "What if we want to get results from this first `awk` call and combine them with results from the second `awk` call to build a result string. One easy way to do this is to output the results of the first call with a field separator that matches the one that will be used in the second call. We can set this using the OFS (output field separator) argument. "
   ]
  },
  {
   "cell_type": "code",
   "execution_count": null,
   "metadata": {},
   "outputs": [],
   "source": [
    "%%bash\n",
    "# if field 3 is gene then return field 9\n",
    "zcat genomes/Saccharomyces.gff.gz | \\\n",
    "    \n",
    "    # get lines w/ type == gene and return (start;stop;attributes)\n",
    "    awk -F '\\t' '{OFS=\";\"}  $3 == \"gene\" {print $4,$5,$9} ' | \\\n",
    "    \n",
    "    # get attributes 1 2 5 return as \\t separated\n",
    "    awk -F ';'  '{OFS=\"\\t\"} $6 {print $1, $2, $5}' | \\\n",
    "    \n",
    "    head -n 10"
   ]
  },
  {
   "cell_type": "markdown",
   "metadata": {},
   "source": [
    "### Get the seqid, start, and end positions of all telomeres\n",
    "\n",
    "How many telomeres do you expect to find on each chromosome, and where should they be located? Use this information to make sure your results make sense for the exercise below.  Note: not all genomes are likely to have telomeres accurately assembled, since these regions are often highly repetitive. In smaller genomes like Yeast they are easier to assemble. "
   ]
  },
  {
   "cell_type": "markdown",
   "metadata": {},
   "source": [
    "<div class=\"alert alert-success\">\n",
    "    <b>Action:</b> Use any of the tools we have discussed so far. Return a tab-delimited table with the positions of all of the telomeres in the Yeast genome. Each line should have the following information: (seqid) (feature type) (start) (stop). Write your code in the cell block below. \n",
    "</div>"
   ]
  },
  {
   "cell_type": "code",
   "execution_count": null,
   "metadata": {},
   "outputs": [],
   "source": []
  }
 ],
 "metadata": {
  "kernelspec": {
   "display_name": "Python 3",
   "language": "python",
   "name": "python3"
  },
  "language_info": {
   "codemirror_mode": {
    "name": "ipython",
    "version": 3
   },
   "file_extension": ".py",
   "mimetype": "text/x-python",
   "name": "python",
   "nbconvert_exporter": "python",
   "pygments_lexer": "ipython3",
   "version": "3.6.7"
  }
 },
 "nbformat": 4,
 "nbformat_minor": 2
}
